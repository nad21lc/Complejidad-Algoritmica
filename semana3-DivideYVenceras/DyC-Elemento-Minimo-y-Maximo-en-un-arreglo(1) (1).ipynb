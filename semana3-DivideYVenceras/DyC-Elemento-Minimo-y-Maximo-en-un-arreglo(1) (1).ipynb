{
 "cells": [
  {
   "attachments": {
    "upc_logo.png": {
     "image/png": "[encoded data removed]"
    }
   },
   "cell_type": "markdown",
   "id": "c882ef49",
   "metadata": {},
   "source": [
    "![upc_logo.png](attachment:upc_logo.png)\n",
    "<h1><center>Complejidad Algorítmica</center></h1>\n",
    "<H3><center>ALGORITMO DIVIDE Y VENCERAS</center></H3>\n",
    "<center>Secciones: WV71 / WS6B</center>\n",
    "<center>2022-01</center>"
   ]
  },
  {
   "cell_type": "markdown",
   "id": "2680cb59",
   "metadata": {},
   "source": [
    "\n",
    "\n",
    "## EJEMPLOS  APLICANDO ALGORITMO DIVIDE Y VENCERAS"
   ]
  },
  {
   "cell_type": "markdown",
   "id": "4b2e9ae4",
   "metadata": {},
   "source": [
    "### 1. BUSQUEDA DEL ELEMENTO MINIMO Y MAXIMO EN UN ARREGLO"
   ]
  },
  {
   "cell_type": "markdown",
   "id": "ae13182a",
   "metadata": {},
   "source": [
    "Código en Python para encontrar el elemento mínimo y máximo en una matriz utilizando el Algoritmo Divide y Venceras.\n",
    "\n",
    "Fuente: https://favtutor.com/blogs/divide-and-conquer-algorithm"
   ]
  },
  {
   "cell_type": "code",
   "execution_count": 3,
   "id": "98abf749",
   "metadata": {},
   "outputs": [],
   "source": [
    "def divideAndConquer_Max(arr, ind, len):\n",
    "    maximum = -1;\n",
    "\n",
    "    if (ind >= len - 2):\n",
    "        if (arr[ind] > arr[ind + 1]):\n",
    "            return arr[ind];\n",
    "        else:\n",
    "            return arr[ind + 1];\n",
    "\n",
    "    maximum = divideAndConquer_Max(arr, ind + 1, len);\n",
    "\n",
    "    if (arr[ind] > maximum):\n",
    "        return arr[ind];\n",
    "    else:\n",
    "        return maximum;\n",
    "\n",
    "\n",
    "def divideAndConquer_Min(arr, ind, len):\n",
    "    minimum = 0;\n",
    "    if (ind >= len - 2):\n",
    "        if (arr[ind] < arr[ind + 1]):\n",
    "            return arr[ind];\n",
    "        else:\n",
    "            return arr[ind + 1];\n",
    "\n",
    "    minimum = divideAndConquer_Min(arr, ind + 1, len);\n",
    "\n",
    "    if (arr[ind] < minimum):\n",
    "        return arr[ind];\n",
    "    else:\n",
    "        return minimum;\n",
    "\n"
   ]
  },
  {
   "cell_type": "code",
   "execution_count": 5,
   "id": "9b2f8115",
   "metadata": {},
   "outputs": [
    {
     "name": "stdout",
     "output_type": "stream",
     "text": [
      "El minimo numero en el arreglo es:  1\n",
      "El maximo numero en el arreglo es:  90\n"
     ]
    }
   ],
   "source": [
    "minimum, maximum = 0, -1;\n",
    "\n",
    "# Inicializamos el arreglo\n",
    "arr = [6, 4, 8, 90, 12, 56, 7, 1, 63];\n",
    "\n",
    "maximum = divideAndConquer_Max(arr, 0, 9);\n",
    "minimum = divideAndConquer_Min(arr, 0, 9);\n",
    "\n",
    "print(\"El minimo numero en el arreglo es: \", minimum);\n",
    "print(\"El maximo numero en el arreglo es: \", maximum);"
   ]
  }
 ],
 "metadata": {
  "kernelspec": {
   "display_name": "Python 3 (ipykernel)",
   "language": "python",
   "name": "python3"
  },
  "language_info": {
   "codemirror_mode": {
    "name": "ipython",
    "version": 3
   },
   "file_extension": ".py",
   "mimetype": "text/x-python",
   "name": "python",
   "nbconvert_exporter": "python",
   "pygments_lexer": "ipython3",
   "version": "3.8.12"
  }
 },
 "nbformat": 4,
 "nbformat_minor": 5
}
