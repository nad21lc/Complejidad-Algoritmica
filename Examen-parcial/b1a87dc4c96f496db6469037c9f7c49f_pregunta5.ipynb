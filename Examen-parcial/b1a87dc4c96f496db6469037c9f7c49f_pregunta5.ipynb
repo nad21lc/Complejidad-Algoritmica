{
 "cells": [
  {
   "cell_type": "code",
   "execution_count": 1,
   "metadata": {},
   "outputs": [
    {
     "name": "stdout",
     "output_type": "stream",
     "text": [
      "Camino más corto desde Ciudad 15 a Ciudad 9:\n",
      "15 -> 10 -> 8 -> 9 -> \n",
      "Costo total: 924 Km\n"
     ]
    },
    {
     "data": {
      "text/plain": [
       "'grafo_ciudades.png'"
      ]
     },
     "execution_count": 1,
     "metadata": {},
     "output_type": "execute_result"
    }
   ],
   "source": [
    "import math\n",
    "import heapq as hq\n",
    "from graphviz import Graph\n",
    "#se utiliza el algoritmo de dijkstra para encontrar el camino mas corto en el grafo\n",
    "def dijkstra(G, s, end):\n",
    "    n = len(G)\n",
    "    visited = [False] * n\n",
    "    path = [-1] * n\n",
    "    cost = [math.inf] * n\n",
    "\n",
    "    cost[s] = 0\n",
    "    pqueue = [(0, s)]\n",
    "    while pqueue:\n",
    "        g, u = hq.heappop(pqueue)\n",
    "        if not visited[u]:\n",
    "            visited[u] = True\n",
    "            for v, w in G[u]:\n",
    "                if not visited[v]:\n",
    "                    f = g + w\n",
    "                    if f < cost[v]:\n",
    "                        cost[v] = f\n",
    "                        path[v] = u\n",
    "                        hq.heappush(pqueue, (f, v))\n",
    "\n",
    "    current_node = end\n",
    "    shortest_path = []\n",
    "    while current_node != -1:\n",
    "        shortest_path.append(current_node)\n",
    "        current_node = path[current_node]\n",
    "\n",
    "    shortest_path.reverse() \n",
    "\n",
    "    return path, cost, shortest_path\n",
    "\n",
    "G = {\n",
    "    0: [(4, 159), (5, 478)],\n",
    "    1: [(2, 322)],\n",
    "    2: [(5, 278), (8, 387), (6, 324)],\n",
    "    3: [(7, 100)],\n",
    "    4: [(5, 373), (0, 159)],\n",
    "    5: [(0, 478), (4, 373), (2, 278), (8, 193)],\n",
    "    6: [(7, 70), (2, 326), (8, 125)],\n",
    "    7: [(3, 100), (11, 127)],\n",
    "    8: [(2, 387), (5, 193), (6, 125), (9, 398), (10, 251), (12, 335)],\n",
    "    9: [(8, 398)],\n",
    "    10: [(11, 191), (15, 275), (8, 251)],\n",
    "    11: [(15, 145), (10, 191), (7, 127)],\n",
    "    12: [(8, 335), (14, 99), (13, 272)],\n",
    "    13: [(12, 272), (14, 365), (16, 132)],\n",
    "    14: [(12, 99), (13, 365), (15, 287)],\n",
    "    15: [(10, 275), (11, 145), (14, 287)],\n",
    "    16: []\n",
    "}\n",
    "\n",
    "start_node = 15\n",
    "end_node = 9\n",
    "path, cost, shortest_path = dijkstra(G, start_node, end_node)\n",
    "\n",
    "dot = Graph(comment='Grafo de Ciudades', strict=False)\n",
    "\n",
    "for node in G:\n",
    "    dot.node(str(node), label=f'{node}')\n",
    "\n",
    "for node, connections in G.items():\n",
    "    for neighbor, weight in connections:\n",
    "        dot.edge(str(node), str(neighbor), label=str(weight))\n",
    "        dot.edge(str(neighbor), str(node), label=str(weight))\n",
    "\n",
    "current_node = end_node\n",
    "while current_node != -1:\n",
    "    next_node = path[current_node]\n",
    "    if next_node != -1:\n",
    "        dot.edge(str(current_node), str(next_node), color='red', penwidth='2.0')\n",
    "    current_node = next_node\n",
    "\n",
    "print(f\"Camino más corto desde Ciudad {start_node} a Ciudad {end_node}:\")\n",
    "for node in shortest_path:\n",
    "    print(f\"{node}\", end=\" -> \")\n",
    "print(f\"\\nCosto total: {cost[end_node]} Km\")\n",
    "\n",
    "dot.render('grafo_ciudades', format='png', view=True)"
   ]
  },
  {
   "cell_type": "markdown",
   "metadata": {},
   "source": [
    "![Alt Text](grafo_ciudades.png)\n"
   ]
  }
 ],
 "metadata": {
  "kernelspec": {
   "display_name": "Python 3",
   "language": "python",
   "name": "python3"
  },
  "language_info": {
   "codemirror_mode": {
    "name": "ipython",
    "version": 3
   },
   "file_extension": ".py",
   "mimetype": "text/x-python",
   "name": "python",
   "nbconvert_exporter": "python",
   "pygments_lexer": "ipython3",
   "version": "3.12.0"
  },
  "orig_nbformat": 4
 },
 "nbformat": 4,
 "nbformat_minor": 2
}
