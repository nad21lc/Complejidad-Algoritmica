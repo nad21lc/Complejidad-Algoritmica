{
 "cells": [
  {
   "cell_type": "code",
   "execution_count": 4,
   "metadata": {},
   "outputs": [
    {
     "ename": "ValueError",
     "evalue": "invalid literal for int() with base 10: ''",
     "output_type": "error",
     "traceback": [
      "\u001b[1;31m---------------------------------------------------------------------------\u001b[0m",
      "\u001b[1;31mValueError\u001b[0m                                Traceback (most recent call last)",
      "\u001b[1;32mc:\\Users\\Nadia\\OneDrive\\Documentos\\Visual Studio 2022\\Templates\\python\\Complejidad Algoritmica\\practicaParcial\\ea2022-1\\preg2.ipynb Cell 1\u001b[0m line \u001b[0;36m4\n\u001b[0;32m     <a href='vscode-notebook-cell:/c%3A/Users/Nadia/OneDrive/Documentos/Visual%20Studio%202022/Templates/python/Complejidad%20Algoritmica/practicaParcial/ea2022-1/preg2.ipynb#W0sZmlsZQ%3D%3D?line=44'>45</a>\u001b[0m \u001b[39mwhile\u001b[39;00m \u001b[39mTrue\u001b[39;00m:\n\u001b[0;32m     <a href='vscode-notebook-cell:/c%3A/Users/Nadia/OneDrive/Documentos/Visual%20Studio%202022/Templates/python/Complejidad%20Algoritmica/practicaParcial/ea2022-1/preg2.ipynb#W0sZmlsZQ%3D%3D?line=45'>46</a>\u001b[0m     \u001b[39mtry\u001b[39;00m:\n\u001b[1;32m---> <a href='vscode-notebook-cell:/c%3A/Users/Nadia/OneDrive/Documentos/Visual%20Studio%202022/Templates/python/Complejidad%20Algoritmica/practicaParcial/ea2022-1/preg2.ipynb#W0sZmlsZQ%3D%3D?line=46'>47</a>\u001b[0m         procesar_caso_prueba(numero_caso)\n\u001b[0;32m     <a href='vscode-notebook-cell:/c%3A/Users/Nadia/OneDrive/Documentos/Visual%20Studio%202022/Templates/python/Complejidad%20Algoritmica/practicaParcial/ea2022-1/preg2.ipynb#W0sZmlsZQ%3D%3D?line=47'>48</a>\u001b[0m         numero_caso \u001b[39m+\u001b[39m\u001b[39m=\u001b[39m \u001b[39m1\u001b[39m\n\u001b[0;32m     <a href='vscode-notebook-cell:/c%3A/Users/Nadia/OneDrive/Documentos/Visual%20Studio%202022/Templates/python/Complejidad%20Algoritmica/practicaParcial/ea2022-1/preg2.ipynb#W0sZmlsZQ%3D%3D?line=48'>49</a>\u001b[0m     \u001b[39mexcept\u001b[39;00m \u001b[39mEOFError\u001b[39;00m:\n",
      "\u001b[1;32mc:\\Users\\Nadia\\OneDrive\\Documentos\\Visual Studio 2022\\Templates\\python\\Complejidad Algoritmica\\practicaParcial\\ea2022-1\\preg2.ipynb Cell 1\u001b[0m line \u001b[0;36m3\n\u001b[0;32m     <a href='vscode-notebook-cell:/c%3A/Users/Nadia/OneDrive/Documentos/Visual%20Studio%202022/Templates/python/Complejidad%20Algoritmica/practicaParcial/ea2022-1/preg2.ipynb#W0sZmlsZQ%3D%3D?line=31'>32</a>\u001b[0m \u001b[39mdef\u001b[39;00m \u001b[39mprocesar_caso_prueba\u001b[39m(numero_caso):\n\u001b[1;32m---> <a href='vscode-notebook-cell:/c%3A/Users/Nadia/OneDrive/Documentos/Visual%20Studio%202022/Templates/python/Complejidad%20Algoritmica/practicaParcial/ea2022-1/preg2.ipynb#W0sZmlsZQ%3D%3D?line=32'>33</a>\u001b[0m     N \u001b[39m=\u001b[39m \u001b[39mint\u001b[39;49m(\u001b[39minput\u001b[39;49m())\n\u001b[0;32m     <a href='vscode-notebook-cell:/c%3A/Users/Nadia/OneDrive/Documentos/Visual%20Studio%202022/Templates/python/Complejidad%20Algoritmica/practicaParcial/ea2022-1/preg2.ipynb#W0sZmlsZQ%3D%3D?line=33'>34</a>\u001b[0m     bebidas \u001b[39m=\u001b[39m [\u001b[39minput\u001b[39m() \u001b[39mfor\u001b[39;00m _ \u001b[39min\u001b[39;00m \u001b[39mrange\u001b[39m(N)]\n\u001b[0;32m     <a href='vscode-notebook-cell:/c%3A/Users/Nadia/OneDrive/Documentos/Visual%20Studio%202022/Templates/python/Complejidad%20Algoritmica/practicaParcial/ea2022-1/preg2.ipynb#W0sZmlsZQ%3D%3D?line=34'>35</a>\u001b[0m     M \u001b[39m=\u001b[39m \u001b[39mint\u001b[39m(\u001b[39minput\u001b[39m())\n",
      "\u001b[1;31mValueError\u001b[0m: invalid literal for int() with base 10: ''"
     ]
    }
   ],
   "source": [
    "def encontrar_orden_de_bebidas(N, bebidas, M, relaciones):\n",
    "    # Construir un grafo dirigido que represente las relaciones entre las bebidas\n",
    "    grafo = {}\n",
    "    for bebida in bebidas:\n",
    "        grafo[bebida] = []\n",
    "\n",
    "    for _ in range(M):\n",
    "        B1, B2 = relaciones.pop(0)\n",
    "        grafo[B1].append(B2)\n",
    "\n",
    "    # Función para realizar un recorrido topológico en el grafo\n",
    "    def recorrido_topologico(grafo, nodo, visitado, resultado):\n",
    "        visitado.add(nodo)\n",
    "        for vecino in grafo[nodo]:\n",
    "            if vecino not in visitado:\n",
    "                recorrido_topologico(grafo, vecino, visitado, resultado)\n",
    "        resultado.append(nodo)\n",
    "\n",
    "    # Realizar el recorrido topológico para encontrar el orden óptimo\n",
    "    orden_optimo = []\n",
    "    visitado = set()\n",
    "\n",
    "    for bebida in bebidas:\n",
    "        if bebida not in visitado:\n",
    "            recorrido_topologico(grafo, bebida, visitado, orden_optimo)\n",
    "\n",
    "    orden_optimo.reverse()\n",
    "\n",
    "    return orden_optimo\n",
    "\n",
    "# Función para procesar un caso de prueba\n",
    "def procesar_caso_prueba(numero_caso):\n",
    "    N = int(input())\n",
    "    bebidas = [input() for _ in range(N)]\n",
    "    M = int(input())\n",
    "    relaciones = [input().split() for _ in range(M)]\n",
    "\n",
    "    orden_optimo = encontrar_orden_de_bebidas(N, bebidas, M, relaciones)\n",
    "\n",
    "    print(f\"Caso #{numero_caso}: usted debería tomar las bebidas en éste orden: {' '.join(orden_optimo)}.\")\n",
    "    print()\n",
    "\n",
    "# Procesar múltiples casos de prueba\n",
    "numero_caso = 1\n",
    "while True:\n",
    "    try:\n",
    "        procesar_caso_prueba(numero_caso)\n",
    "        numero_caso += 1\n",
    "    except EOFError:\n",
    "        break"
   ]
  }
 ],
 "metadata": {
  "kernelspec": {
   "display_name": "Python 3",
   "language": "python",
   "name": "python3"
  },
  "language_info": {
   "codemirror_mode": {
    "name": "ipython",
    "version": 3
   },
   "file_extension": ".py",
   "mimetype": "text/x-python",
   "name": "python",
   "nbconvert_exporter": "python",
   "pygments_lexer": "ipython3",
   "version": "3.12.0"
  },
  "orig_nbformat": 4
 },
 "nbformat": 4,
 "nbformat_minor": 2
}
