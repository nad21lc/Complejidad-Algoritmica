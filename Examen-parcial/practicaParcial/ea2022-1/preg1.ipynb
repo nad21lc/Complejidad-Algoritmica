{
 "cells": [
  {
   "cell_type": "code",
   "execution_count": 17,
   "metadata": {},
   "outputs": [
    {
     "name": "stdout",
     "output_type": "stream",
     "text": [
      "0\n",
      "5\n",
      "4\n",
      "2\n",
      "3\n",
      "1\n"
     ]
    }
   ],
   "source": [
    "import numpy as np\n",
    "import graphviz as gv\n",
    "import random\n",
    "\n",
    "def rdfs(graph, node, visited):\n",
    "    visited[node] = True\n",
    "    print(node)  # Puedes hacer lo que necesites con el nodo, como imprimirlo\n",
    "    neighbors = graph[node]\n",
    "    random.shuffle(neighbors)  # Mezclar aleatoriamente los vecinos\n",
    "    for neighbor in neighbors:\n",
    "        if not visited[neighbor]:\n",
    "            rdfs(graph, neighbor, visited)\n",
    "\n",
    "# Ejemplo de uso con un grafo representado como un diccionario de listas de adyacencia\n",
    "graph = {\n",
    "    0: [1, 5],\n",
    "    1: [0, 2, 3],\n",
    "    2: [1, 3, 4],\n",
    "    3: [1, 2, 5],\n",
    "    4: [2, 5],\n",
    "    5: [0, 3, 4]\n",
    "}\n",
    "\n",
    "visited = [False] * len(graph)\n",
    "\n",
    "# Llamada inicial a RDFS desde el nodo 0\n",
    "rdfs(graph, 0, visited)\n"
   ]
  }
 ],
 "metadata": {
  "kernelspec": {
   "display_name": "Python 3",
   "language": "python",
   "name": "python3"
  },
  "language_info": {
   "codemirror_mode": {
    "name": "ipython",
    "version": 3
   },
   "file_extension": ".py",
   "mimetype": "text/x-python",
   "name": "python",
   "nbconvert_exporter": "python",
   "pygments_lexer": "ipython3",
   "version": "3.12.0"
  },
  "orig_nbformat": 4
 },
 "nbformat": 4,
 "nbformat_minor": 2
}
