{
  "nbformat": 4,
  "nbformat_minor": 0,
  "metadata": {
    "colab": {
      "provenance": []
    },
    "kernelspec": {
      "name": "python3",
      "display_name": "Python 3"
    },
    "language_info": {
      "name": "python"
    }
  },
  "cells": [
    {
      "cell_type": "code",
      "execution_count": 63,
      "metadata": {
        "id": "KhjOaey04JT0"
      },
      "outputs": [],
      "source": [
        "import itertools\n",
        "import graphviz as gv\n",
        "\n",
        "def calcularDistancia(coordenadas1, coordenadas2):\n",
        "    diferenciaX = coordenadas1[0] - coordenadas2[0]\n",
        "    diferenciaY = coordenadas1[1] - coordenadas2[1]\n",
        "\n",
        "    distancia = (diferenciaX**2 + diferenciaY**2)**0.5\n",
        "\n",
        "    return distancia\n",
        "\n",
        "def visualizarGrafo(faroles, uniones):\n",
        "    g = gv.Graph(\"G\")\n",
        "    g.graph_attr[\"layout\"] = \"neato\"\n",
        "    g.edge_attr[\"color\"] = \"gray\"\n",
        "    g.node_attr[\"color\"] = \"orangered\"\n",
        "    g.node_attr[\"width\"] = \"0.1\"\n",
        "    g.node_attr[\"height\"] = \"0.1\"\n",
        "    g.node_attr[\"fontsize\"] = \"8\"\n",
        "    g.node_attr[\"fontcolor\"] = \"mediumslateblue\"\n",
        "    g.node_attr[\"fontname\"] = \"monospace\"\n",
        "    g.edge_attr[\"fontsize\"] = \"7\"\n",
        "    g.edge_attr[\"fontname\"] = \"monospace\"\n",
        "\n",
        "    for farol, coordenadas in faroles.items():\n",
        "        g.node(str(farol), label=str(farol))\n",
        "\n",
        "    added = set()\n",
        "\n",
        "    for u, v in uniones:\n",
        "        distancia = calcularDistancia(faroles[u], faroles[v])\n",
        "        if f\"{u},{v}\" not in added:\n",
        "            added.add(f\"{u},{v}\")\n",
        "            added.add(f\"{v},{u}\")\n",
        "            g.edge(str(u), str(v), label=f\"{distancia:.2f}\")\n",
        "\n",
        "    return g\n",
        "\n",
        "def calcularCableTotal(faroles, uniones):\n",
        "    cableTotal = 0\n",
        "    added = set()\n",
        "\n",
        "    for u, v in uniones:\n",
        "        distancia = calcularDistancia(faroles[u], faroles[v])\n",
        "        if f\"{u},{v}\" not in added:\n",
        "            added.add(f\"{u},{v}\")\n",
        "            added.add(f\"{v},{u}\")\n",
        "            cableTotal += distancia\n",
        "\n",
        "    return cableTotal\n",
        "\n",
        "\n",
        "def obtenerMSTPorPrim(graph, start_node):\n",
        "    numNodos = len(graph)\n",
        "    mst = []\n",
        "    visitados = [False] * numNodos\n",
        "    cola_prioridad = [(0, start_node, None)]\n",
        "\n",
        "    while cola_prioridad:\n",
        "        peso, nodo_actual, nodo_anterior = cola_prioridad.pop(0)\n",
        "\n",
        "        if not visitados[nodo_actual]:\n",
        "            visitados[nodo_actual] = True\n",
        "            if nodo_anterior is not None:\n",
        "                mst.append((nodo_anterior, nodo_actual, peso))\n",
        "\n",
        "            for vecino, peso_vecino in graph[nodo_actual]:\n",
        "                if not visitados[vecino]:\n",
        "                    cola_prioridad.append((peso_vecino, vecino, nodo_actual))\n",
        "\n",
        "            cola_prioridad.sort()\n",
        "\n",
        "    return mst\n",
        "\n",
        "def generarPropuesta(faroles):\n",
        "    grafo_completo = {i: [] for i in faroles.keys()}\n",
        "\n",
        "    for (u, v) in itertools.combinations(faroles.keys(), 2):\n",
        "        distancia = calcularDistancia(faroles[u], faroles[v])\n",
        "        # la conexión entre faroles no debe superar 4\n",
        "        if distancia <= 4:\n",
        "            grafo_completo[u].append((v, distancia))\n",
        "            grafo_completo[v].append((u, distancia))\n",
        "\n",
        "    # calcular el mst con prim\n",
        "    mst = obtenerMSTPorPrim(grafo_completo, start_node=0)\n",
        "\n",
        "    propuesta = [(u, v) for u, v, peso in mst]\n",
        "\n",
        "    return propuesta\n",
        "\n",
        "def visualizarMST(faroles, mst):\n",
        "    g = gv.Graph(\"G\")\n",
        "    g.graph_attr[\"layout\"] = \"neato\"\n",
        "    g.edge_attr[\"color\"] = \"purple\"\n",
        "    g.node_attr[\"color\"] = \"orangered\"\n",
        "    g.node_attr[\"width\"] = \"0.1\"\n",
        "    g.node_attr[\"height\"] = \"0.1\"\n",
        "    g.node_attr[\"fontsize\"] = \"8\"\n",
        "    g.node_attr[\"fontcolor\"] = \"mediumslateblue\"\n",
        "    g.node_attr[\"fontname\"] = \"monospace\"\n",
        "    g.edge_attr[\"fontsize\"] = \"7\"\n",
        "    g.edge_attr[\"fontname\"] = \"monospace\"\n",
        "\n",
        "    for farol, coordenadas in faroles.items():\n",
        "        g.node(str(farol), label=str(farol))\n",
        "\n",
        "    for edge in mst:\n",
        "        if len(edge) == 3:  # verficar si el mst tiene 3 elementos (origen, destino, peso)\n",
        "            u, v, peso = edge\n",
        "        else:\n",
        "            u, v = edge\n",
        "            peso = calcularDistancia(faroles[u], faroles[v])\n",
        "        distancia = calcularDistancia(faroles[u], faroles[v])\n",
        "        g.edge(str(u), str(v), label=f\"{distancia:.2f}\")\n",
        "\n",
        "    return g"
      ]
    },
    {
      "cell_type": "code",
      "source": [
        "faroles = {\n",
        "    0: (0, 0),\n",
        "    1: (1, 3),\n",
        "    2: (3, 1),\n",
        "    3: (2, 2),\n",
        "    4: (3, 5),\n",
        "    5: (1, 7),\n",
        "    6: (8, 6),\n",
        "    7: (5, 7),\n",
        "    8: (5, 3),\n",
        "    9: (8, 1),\n",
        "    10: (8, 4),\n",
        "    11: (10, 3),\n",
        "    12: (12, 1),\n",
        "    13: (13, 3),\n",
        "    14: (12, 5),\n",
        "    15: (12, 7)\n",
        "}\n",
        "\n",
        "uniones = [\n",
        "    (0, 3), (1, 3), (1, 4), (2, 3), (2, 8), (3, 0), (3, 1), (3, 2), (4, 1),\n",
        "    (4, 5), (4, 7), (5, 4), (6, 10), (7, 4), (8, 2), (8, 10), (9, 11), (10, 6),\n",
        "    (10, 8), (10, 11), (11, 9), (11, 10), (11, 12), (12, 11), (12, 13), (13, 12),\n",
        "    (13, 14), (14, 13), (14, 15)\n",
        "]\n",
        "\n",
        "visualizarGrafo(faroles, uniones)"
      ],
      "metadata": {
        "colab": {
          "base_uri": "https://localhost:8080/",
          "height": 651
        },
        "id": "9mg0xDiR4f2U",
        "outputId": "2d693d36-aa13-4a38-a1a2-b02d2735657f"
      },
      "execution_count": 64,
      "outputs": [
        {
          "output_type": "execute_result",
          "data": {
            "image/svg+xml": "<?xml version=\"1.0\" encoding=\"UTF-8\" standalone=\"no\"?>\n<!DOCTYPE svg PUBLIC \"-//W3C//DTD SVG 1.1//EN\"\n \"http://www.w3.org/Graphics/SVG/1.1/DTD/svg11.dtd\">\n<!-- Generated by graphviz version 2.43.0 (0)\n -->\n<!-- Title: G Pages: 1 -->\n<svg width=\"764pt\" height=\"472pt\"\n viewBox=\"0.00 0.00 763.89 472.37\" xmlns=\"http://www.w3.org/2000/svg\" xmlns:xlink=\"http://www.w3.org/1999/xlink\">\n<g id=\"graph0\" class=\"graph\" transform=\"scale(1 1) rotate(0) translate(4 468.37)\">\n<title>G</title>\n<polygon fill=\"white\" stroke=\"transparent\" points=\"-4,4 -4,-468.37 759.89,-468.37 759.89,4 -4,4\"/>\n<!-- 0 -->\n<g id=\"node1\" class=\"node\">\n<title>0</title>\n<ellipse fill=\"none\" stroke=\"orangered\" cx=\"104.57\" cy=\"-180.75\" rx=\"14.7\" ry=\"12.04\"/>\n<text text-anchor=\"middle\" x=\"104.57\" y=\"-178.85\" font-family=\"monospace\" font-size=\"8.00\" fill=\"mediumslateblue\">0</text>\n</g>\n<!-- 3 -->\n<g id=\"node4\" class=\"node\">\n<title>3</title>\n<ellipse fill=\"none\" stroke=\"orangered\" cx=\"167.32\" cy=\"-234.4\" rx=\"14.7\" ry=\"12.04\"/>\n<text text-anchor=\"middle\" x=\"167.32\" y=\"-232.5\" font-family=\"monospace\" font-size=\"8.00\" fill=\"mediumslateblue\">3</text>\n</g>\n<!-- 0&#45;&#45;3 -->\n<g id=\"edge1\" class=\"edge\">\n<title>0&#45;&#45;3</title>\n<path fill=\"none\" stroke=\"gray\" d=\"M114.93,-189.61C126.49,-199.49 145.08,-215.39 156.73,-225.35\"/>\n<text text-anchor=\"middle\" x=\"126.33\" y=\"-209.88\" font-family=\"monospace\" font-size=\"7.00\">2.83</text>\n</g>\n<!-- 1 -->\n<g id=\"node2\" class=\"node\">\n<title>1</title>\n<ellipse fill=\"none\" stroke=\"orangered\" cx=\"138.72\" cy=\"-309.61\" rx=\"14.7\" ry=\"12.04\"/>\n<text text-anchor=\"middle\" x=\"138.72\" y=\"-307.71\" font-family=\"monospace\" font-size=\"8.00\" fill=\"mediumslateblue\">1</text>\n</g>\n<!-- 1&#45;&#45;3 -->\n<g id=\"edge2\" class=\"edge\">\n<title>1&#45;&#45;3</title>\n<path fill=\"none\" stroke=\"gray\" d=\"M143.19,-297.86C148.53,-283.81 157.42,-260.44 162.79,-246.32\"/>\n<text text-anchor=\"middle\" x=\"143.49\" y=\"-274.49\" font-family=\"monospace\" font-size=\"7.00\">1.41</text>\n</g>\n<!-- 4 -->\n<g id=\"node5\" class=\"node\">\n<title>4</title>\n<ellipse fill=\"none\" stroke=\"orangered\" cx=\"94.19\" cy=\"-374.87\" rx=\"14.7\" ry=\"12.04\"/>\n<text text-anchor=\"middle\" x=\"94.19\" y=\"-372.97\" font-family=\"monospace\" font-size=\"8.00\" fill=\"mediumslateblue\">4</text>\n</g>\n<!-- 1&#45;&#45;4 -->\n<g id=\"edge3\" class=\"edge\">\n<title>1&#45;&#45;4</title>\n<path fill=\"none\" stroke=\"gray\" d=\"M131.37,-320.38C123.07,-332.55 109.65,-352.21 101.4,-364.29\"/>\n<text text-anchor=\"middle\" x=\"106.89\" y=\"-344.74\" font-family=\"monospace\" font-size=\"7.00\">2.83</text>\n</g>\n<!-- 2 -->\n<g id=\"node3\" class=\"node\">\n<title>2</title>\n<ellipse fill=\"none\" stroke=\"orangered\" cx=\"241.86\" cy=\"-205.44\" rx=\"14.7\" ry=\"12.04\"/>\n<text text-anchor=\"middle\" x=\"241.86\" y=\"-203.54\" font-family=\"monospace\" font-size=\"8.00\" fill=\"mediumslateblue\">2</text>\n</g>\n<!-- 2&#45;&#45;3 -->\n<g id=\"edge4\" class=\"edge\">\n<title>2&#45;&#45;3</title>\n<path fill=\"none\" stroke=\"gray\" d=\"M228.18,-210.75C214.74,-215.98 194.32,-223.91 180.9,-229.12\"/>\n<text text-anchor=\"middle\" x=\"195.04\" y=\"-222.34\" font-family=\"monospace\" font-size=\"7.00\">1.41</text>\n</g>\n<!-- 8 -->\n<g id=\"node9\" class=\"node\">\n<title>8</title>\n<ellipse fill=\"none\" stroke=\"orangered\" cx=\"307.51\" cy=\"-164.34\" rx=\"14.7\" ry=\"12.04\"/>\n<text text-anchor=\"middle\" x=\"307.51\" y=\"-162.44\" font-family=\"monospace\" font-size=\"8.00\" fill=\"mediumslateblue\">8</text>\n</g>\n<!-- 2&#45;&#45;8 -->\n<g id=\"edge5\" class=\"edge\">\n<title>2&#45;&#45;8</title>\n<path fill=\"none\" stroke=\"gray\" d=\"M253.9,-197.9C265.74,-190.49 283.72,-179.23 295.54,-171.83\"/>\n<text text-anchor=\"middle\" x=\"265.22\" y=\"-187.26\" font-family=\"monospace\" font-size=\"7.00\">2.83</text>\n</g>\n<!-- 5 -->\n<g id=\"node6\" class=\"node\">\n<title>5</title>\n<ellipse fill=\"none\" stroke=\"orangered\" cx=\"14.85\" cy=\"-383.02\" rx=\"14.7\" ry=\"12.04\"/>\n<text text-anchor=\"middle\" x=\"14.85\" y=\"-381.12\" font-family=\"monospace\" font-size=\"8.00\" fill=\"mediumslateblue\">5</text>\n</g>\n<!-- 4&#45;&#45;5 -->\n<g id=\"edge6\" class=\"edge\">\n<title>4&#45;&#45;5</title>\n<path fill=\"none\" stroke=\"gray\" d=\"M79.26,-376.4C65.08,-377.86 43.87,-380.04 29.71,-381.49\"/>\n<text text-anchor=\"middle\" x=\"44.98\" y=\"-381.35\" font-family=\"monospace\" font-size=\"7.00\">2.83</text>\n</g>\n<!-- 7 -->\n<g id=\"node8\" class=\"node\">\n<title>7</title>\n<ellipse fill=\"none\" stroke=\"orangered\" cx=\"110.86\" cy=\"-452.34\" rx=\"14.7\" ry=\"12.04\"/>\n<text text-anchor=\"middle\" x=\"110.86\" y=\"-450.44\" font-family=\"monospace\" font-size=\"8.00\" fill=\"mediumslateblue\">7</text>\n</g>\n<!-- 4&#45;&#45;7 -->\n<g id=\"edge7\" class=\"edge\">\n<title>4&#45;&#45;7</title>\n<path fill=\"none\" stroke=\"gray\" d=\"M96.79,-386.97C99.92,-401.53 105.15,-425.81 108.27,-440.32\"/>\n<text text-anchor=\"middle\" x=\"93.03\" y=\"-416.05\" font-family=\"monospace\" font-size=\"7.00\">2.83</text>\n</g>\n<!-- 6 -->\n<g id=\"node7\" class=\"node\">\n<title>6</title>\n<ellipse fill=\"none\" stroke=\"orangered\" cx=\"327.74\" cy=\"-31.08\" rx=\"14.7\" ry=\"12.04\"/>\n<text text-anchor=\"middle\" x=\"327.74\" y=\"-29.18\" font-family=\"monospace\" font-size=\"8.00\" fill=\"mediumslateblue\">6</text>\n</g>\n<!-- 10 -->\n<g id=\"node11\" class=\"node\">\n<title>10</title>\n<ellipse fill=\"none\" stroke=\"orangered\" cx=\"363.4\" cy=\"-106.69\" rx=\"18.27\" ry=\"12.04\"/>\n<text text-anchor=\"middle\" x=\"363.4\" y=\"-104.79\" font-family=\"monospace\" font-size=\"8.00\" fill=\"mediumslateblue\">10</text>\n</g>\n<!-- 6&#45;&#45;10 -->\n<g id=\"edge8\" class=\"edge\">\n<title>6&#45;&#45;10</title>\n<path fill=\"none\" stroke=\"gray\" d=\"M333.16,-42.56C339.86,-56.78 351.21,-80.84 357.93,-95.1\"/>\n<text text-anchor=\"middle\" x=\"336.04\" y=\"-71.23\" font-family=\"monospace\" font-size=\"7.00\">2.00</text>\n</g>\n<!-- 8&#45;&#45;10 -->\n<g id=\"edge9\" class=\"edge\">\n<title>8&#45;&#45;10</title>\n<path fill=\"none\" stroke=\"gray\" d=\"M316.74,-154.82C326.78,-144.45 342.8,-127.93 353.21,-117.2\"/>\n<text text-anchor=\"middle\" x=\"325.47\" y=\"-138.41\" font-family=\"monospace\" font-size=\"7.00\">3.16</text>\n</g>\n<!-- 9 -->\n<g id=\"node10\" class=\"node\">\n<title>9</title>\n<ellipse fill=\"none\" stroke=\"orangered\" cx=\"461.58\" cy=\"-12.02\" rx=\"14.7\" ry=\"12.04\"/>\n<text text-anchor=\"middle\" x=\"461.58\" y=\"-10.12\" font-family=\"monospace\" font-size=\"8.00\" fill=\"mediumslateblue\">9</text>\n</g>\n<!-- 11 -->\n<g id=\"node12\" class=\"node\">\n<title>11</title>\n<ellipse fill=\"none\" stroke=\"orangered\" cx=\"444.88\" cy=\"-93.45\" rx=\"18.27\" ry=\"12.04\"/>\n<text text-anchor=\"middle\" x=\"444.88\" y=\"-91.55\" font-family=\"monospace\" font-size=\"8.00\" fill=\"mediumslateblue\">11</text>\n</g>\n<!-- 9&#45;&#45;11 -->\n<g id=\"edge10\" class=\"edge\">\n<title>9&#45;&#45;11</title>\n<path fill=\"none\" stroke=\"gray\" d=\"M459.12,-24.04C455.96,-39.43 450.51,-65.96 447.35,-81.38\"/>\n<text text-anchor=\"middle\" x=\"443.73\" y=\"-55.11\" font-family=\"monospace\" font-size=\"7.00\">2.83</text>\n</g>\n<!-- 10&#45;&#45;11 -->\n<g id=\"edge11\" class=\"edge\">\n<title>10&#45;&#45;11</title>\n<path fill=\"none\" stroke=\"gray\" d=\"M381.48,-103.75C394.98,-101.55 413.35,-98.57 426.84,-96.38\"/>\n<text text-anchor=\"middle\" x=\"394.66\" y=\"-102.46\" font-family=\"monospace\" font-size=\"7.00\">2.24</text>\n</g>\n<!-- 12 -->\n<g id=\"node13\" class=\"node\">\n<title>12</title>\n<ellipse fill=\"none\" stroke=\"orangered\" cx=\"517.15\" cy=\"-127.45\" rx=\"18.27\" ry=\"12.04\"/>\n<text text-anchor=\"middle\" x=\"517.15\" y=\"-125.55\" font-family=\"monospace\" font-size=\"8.00\" fill=\"mediumslateblue\">12</text>\n</g>\n<!-- 11&#45;&#45;12 -->\n<g id=\"edge12\" class=\"edge\">\n<title>11&#45;&#45;12</title>\n<path fill=\"none\" stroke=\"gray\" d=\"M459.85,-100.49C472.26,-106.33 489.79,-114.58 502.19,-120.41\"/>\n<text text-anchor=\"middle\" x=\"471.52\" y=\"-112.85\" font-family=\"monospace\" font-size=\"7.00\">2.83</text>\n</g>\n<!-- 13 -->\n<g id=\"node14\" class=\"node\">\n<title>13</title>\n<ellipse fill=\"none\" stroke=\"orangered\" cx=\"591.61\" cy=\"-141.19\" rx=\"18.27\" ry=\"12.04\"/>\n<text text-anchor=\"middle\" x=\"591.61\" y=\"-139.29\" font-family=\"monospace\" font-size=\"8.00\" fill=\"mediumslateblue\">13</text>\n</g>\n<!-- 12&#45;&#45;13 -->\n<g id=\"edge13\" class=\"edge\">\n<title>12&#45;&#45;13</title>\n<path fill=\"none\" stroke=\"gray\" d=\"M535.17,-130.78C546.88,-132.94 562.08,-135.74 573.75,-137.89\"/>\n<text text-anchor=\"middle\" x=\"544.96\" y=\"-136.74\" font-family=\"monospace\" font-size=\"7.00\">2.24</text>\n</g>\n<!-- 14 -->\n<g id=\"node15\" class=\"node\">\n<title>14</title>\n<ellipse fill=\"none\" stroke=\"orangered\" cx=\"665.04\" cy=\"-149.7\" rx=\"18.27\" ry=\"12.04\"/>\n<text text-anchor=\"middle\" x=\"665.04\" y=\"-147.8\" font-family=\"monospace\" font-size=\"8.00\" fill=\"mediumslateblue\">14</text>\n</g>\n<!-- 13&#45;&#45;14 -->\n<g id=\"edge14\" class=\"edge\">\n<title>13&#45;&#45;14</title>\n<path fill=\"none\" stroke=\"gray\" d=\"M609.76,-143.29C621.06,-144.6 635.54,-146.28 646.84,-147.59\"/>\n<text text-anchor=\"middle\" x=\"618.8\" y=\"-147.84\" font-family=\"monospace\" font-size=\"7.00\">2.24</text>\n</g>\n<!-- 15 -->\n<g id=\"node16\" class=\"node\">\n<title>15</title>\n<ellipse fill=\"none\" stroke=\"orangered\" cx=\"737.51\" cy=\"-158.54\" rx=\"18.27\" ry=\"12.04\"/>\n<text text-anchor=\"middle\" x=\"737.51\" y=\"-156.64\" font-family=\"monospace\" font-size=\"8.00\" fill=\"mediumslateblue\">15</text>\n</g>\n<!-- 14&#45;&#45;15 -->\n<g id=\"edge15\" class=\"edge\">\n<title>14&#45;&#45;15</title>\n<path fill=\"none\" stroke=\"gray\" d=\"M683.33,-151.93C694.31,-153.27 708.24,-154.97 719.23,-156.31\"/>\n<text text-anchor=\"middle\" x=\"706.03\" y=\"-148.52\" font-family=\"monospace\" font-size=\"7.00\">2.00</text>\n</g>\n</g>\n</svg>\n",
            "text/plain": [
              "<graphviz.graphs.Graph at 0x78284c2b1bd0>"
            ]
          },
          "metadata": {},
          "execution_count": 64
        }
      ]
    },
    {
      "cell_type": "code",
      "source": [
        "graph = {i: [] for i in range(len(faroles))}\n",
        "\n",
        "for u, v in uniones:\n",
        "    distancia = calcularDistancia(faroles[u], faroles[v])\n",
        "    graph[u].append((v, distancia))\n",
        "    graph[v].append((u, distancia))\n",
        "\n",
        "cable_inicial = calcularCableTotal(faroles, uniones)\n",
        "print(f\"El cable utilizado en la propuesta inicial: {cable_inicial}\")"
      ],
      "metadata": {
        "colab": {
          "base_uri": "https://localhost:8080/"
        },
        "id": "vpDiY8Ek4umb",
        "outputId": "f8a15b7e-1f9a-4089-e952-77f286f0238a"
      },
      "execution_count": 65,
      "outputs": [
        {
          "output_type": "stream",
          "name": "stdout",
          "text": [
            "El cable utilizado en la propuesta inicial: 36.49789859063728\n"
          ]
        }
      ]
    },
    {
      "cell_type": "code",
      "source": [
        "# Generar una nueva propuesta\n",
        "nueva_propuesta = generarPropuesta(faroles)\n",
        "\n",
        "cable_mst = sum(calcularDistancia(faroles[u], faroles[v]) for u, v in nueva_propuesta)\n",
        "print(\"Longitud total del cable en la nueva propuesta:\", cable_mst)\n",
        "visualizarMST(faroles, nueva_propuesta)"
      ],
      "metadata": {
        "colab": {
          "base_uri": "https://localhost:8080/",
          "height": 688
        },
        "id": "lvPC4Ihh4-_Q",
        "outputId": "8499bad2-30af-4e6f-fda3-89bae3253292"
      },
      "execution_count": 66,
      "outputs": [
        {
          "output_type": "stream",
          "name": "stdout",
          "text": [
            "Longitud total del cable en la nueva propuesta: 36.49789859063728\n"
          ]
        },
        {
          "output_type": "execute_result",
          "data": {
            "image/svg+xml": "<?xml version=\"1.0\" encoding=\"UTF-8\" standalone=\"no\"?>\n<!DOCTYPE svg PUBLIC \"-//W3C//DTD SVG 1.1//EN\"\n \"http://www.w3.org/Graphics/SVG/1.1/DTD/svg11.dtd\">\n<!-- Generated by graphviz version 2.43.0 (0)\n -->\n<!-- Title: G Pages: 1 -->\n<svg width=\"765pt\" height=\"487pt\"\n viewBox=\"0.00 0.00 765.45 487.19\" xmlns=\"http://www.w3.org/2000/svg\" xmlns:xlink=\"http://www.w3.org/1999/xlink\">\n<g id=\"graph0\" class=\"graph\" transform=\"scale(1 1) rotate(0) translate(4 483.19)\">\n<title>G</title>\n<polygon fill=\"white\" stroke=\"transparent\" points=\"-4,4 -4,-483.19 761.45,-483.19 761.45,4 -4,4\"/>\n<!-- 0 -->\n<g id=\"node1\" class=\"node\">\n<title>0</title>\n<ellipse fill=\"none\" stroke=\"orangered\" cx=\"14.85\" cy=\"-193.39\" rx=\"14.7\" ry=\"12.04\"/>\n<text text-anchor=\"middle\" x=\"14.85\" y=\"-191.49\" font-family=\"monospace\" font-size=\"8.00\" fill=\"mediumslateblue\">0</text>\n</g>\n<!-- 3 -->\n<g id=\"node4\" class=\"node\">\n<title>3</title>\n<ellipse fill=\"none\" stroke=\"orangered\" cx=\"86.1\" cy=\"-154.03\" rx=\"14.7\" ry=\"12.04\"/>\n<text text-anchor=\"middle\" x=\"86.1\" y=\"-152.13\" font-family=\"monospace\" font-size=\"8.00\" fill=\"mediumslateblue\">3</text>\n</g>\n<!-- 0&#45;&#45;3 -->\n<g id=\"edge1\" class=\"edge\">\n<title>0&#45;&#45;3</title>\n<path fill=\"none\" stroke=\"purple\" d=\"M27.26,-186.53C40.34,-179.31 60.81,-168 73.83,-160.81\"/>\n<text text-anchor=\"middle\" x=\"41.05\" y=\"-176.07\" font-family=\"monospace\" font-size=\"7.00\">2.83</text>\n</g>\n<!-- 1 -->\n<g id=\"node2\" class=\"node\">\n<title>1</title>\n<ellipse fill=\"none\" stroke=\"orangered\" cx=\"156.64\" cy=\"-191.17\" rx=\"14.7\" ry=\"12.04\"/>\n<text text-anchor=\"middle\" x=\"156.64\" y=\"-189.27\" font-family=\"monospace\" font-size=\"8.00\" fill=\"mediumslateblue\">1</text>\n</g>\n<!-- 4 -->\n<g id=\"node5\" class=\"node\">\n<title>4</title>\n<ellipse fill=\"none\" stroke=\"orangered\" cx=\"214.08\" cy=\"-247.63\" rx=\"14.7\" ry=\"12.04\"/>\n<text text-anchor=\"middle\" x=\"214.08\" y=\"-245.73\" font-family=\"monospace\" font-size=\"8.00\" fill=\"mediumslateblue\">4</text>\n</g>\n<!-- 1&#45;&#45;4 -->\n<g id=\"edge4\" class=\"edge\">\n<title>1&#45;&#45;4</title>\n<path fill=\"none\" stroke=\"purple\" d=\"M166.13,-200.49C176.71,-210.89 193.73,-227.63 204.39,-238.11\"/>\n<text text-anchor=\"middle\" x=\"175.76\" y=\"-221.7\" font-family=\"monospace\" font-size=\"7.00\">2.83</text>\n</g>\n<!-- 2 -->\n<g id=\"node3\" class=\"node\">\n<title>2</title>\n<ellipse fill=\"none\" stroke=\"orangered\" cx=\"65.5\" cy=\"-77.19\" rx=\"14.7\" ry=\"12.04\"/>\n<text text-anchor=\"middle\" x=\"65.5\" y=\"-75.29\" font-family=\"monospace\" font-size=\"8.00\" fill=\"mediumslateblue\">2</text>\n</g>\n<!-- 8 -->\n<g id=\"node9\" class=\"node\">\n<title>8</title>\n<ellipse fill=\"none\" stroke=\"orangered\" cx=\"28.43\" cy=\"-12.02\" rx=\"14.7\" ry=\"12.04\"/>\n<text text-anchor=\"middle\" x=\"28.43\" y=\"-10.12\" font-family=\"monospace\" font-size=\"8.00\" fill=\"mediumslateblue\">8</text>\n</g>\n<!-- 2&#45;&#45;8 -->\n<g id=\"edge7\" class=\"edge\">\n<title>2&#45;&#45;8</title>\n<path fill=\"none\" stroke=\"purple\" d=\"M59.21,-66.13C52.43,-54.22 41.71,-35.36 34.87,-23.35\"/>\n<text text-anchor=\"middle\" x=\"37.54\" y=\"-47.14\" font-family=\"monospace\" font-size=\"7.00\">2.83</text>\n</g>\n<!-- 3&#45;&#45;1 -->\n<g id=\"edge2\" class=\"edge\">\n<title>3&#45;&#45;1</title>\n<path fill=\"none\" stroke=\"purple\" d=\"M98.71,-160.67C111.55,-167.43 131.34,-177.85 144.14,-184.59\"/>\n<text text-anchor=\"middle\" x=\"111.93\" y=\"-175.03\" font-family=\"monospace\" font-size=\"7.00\">1.41</text>\n</g>\n<!-- 3&#45;&#45;2 -->\n<g id=\"edge3\" class=\"edge\">\n<title>3&#45;&#45;2</title>\n<path fill=\"none\" stroke=\"purple\" d=\"M82.88,-142.02C79.01,-127.59 72.56,-103.51 68.7,-89.11\"/>\n<text text-anchor=\"middle\" x=\"66.29\" y=\"-117.97\" font-family=\"monospace\" font-size=\"7.00\">1.41</text>\n</g>\n<!-- 5 -->\n<g id=\"node6\" class=\"node\">\n<title>5</title>\n<ellipse fill=\"none\" stroke=\"orangered\" cx=\"183.66\" cy=\"-324.27\" rx=\"14.7\" ry=\"12.04\"/>\n<text text-anchor=\"middle\" x=\"183.66\" y=\"-322.37\" font-family=\"monospace\" font-size=\"8.00\" fill=\"mediumslateblue\">5</text>\n</g>\n<!-- 4&#45;&#45;5 -->\n<g id=\"edge5\" class=\"edge\">\n<title>4&#45;&#45;5</title>\n<path fill=\"none\" stroke=\"purple\" d=\"M209.46,-259.27C203.71,-273.76 193.95,-298.35 188.23,-312.77\"/>\n<text text-anchor=\"middle\" x=\"189.34\" y=\"-288.42\" font-family=\"monospace\" font-size=\"7.00\">2.83</text>\n</g>\n<!-- 7 -->\n<g id=\"node8\" class=\"node\">\n<title>7</title>\n<ellipse fill=\"none\" stroke=\"orangered\" cx=\"293.38\" cy=\"-242.03\" rx=\"14.7\" ry=\"12.04\"/>\n<text text-anchor=\"middle\" x=\"293.38\" y=\"-240.13\" font-family=\"monospace\" font-size=\"8.00\" fill=\"mediumslateblue\">7</text>\n</g>\n<!-- 4&#45;&#45;7 -->\n<g id=\"edge6\" class=\"edge\">\n<title>4&#45;&#45;7</title>\n<path fill=\"none\" stroke=\"purple\" d=\"M229,-246.58C243.17,-245.58 264.38,-244.08 278.53,-243.08\"/>\n<text text-anchor=\"middle\" x=\"244.26\" y=\"-247.23\" font-family=\"monospace\" font-size=\"7.00\">2.83</text>\n</g>\n<!-- 6 -->\n<g id=\"node7\" class=\"node\">\n<title>6</title>\n<ellipse fill=\"none\" stroke=\"orangered\" cx=\"369\" cy=\"-247.76\" rx=\"14.7\" ry=\"12.04\"/>\n<text text-anchor=\"middle\" x=\"369\" y=\"-245.86\" font-family=\"monospace\" font-size=\"8.00\" fill=\"mediumslateblue\">6</text>\n</g>\n<!-- 10 -->\n<g id=\"node11\" class=\"node\">\n<title>10</title>\n<ellipse fill=\"none\" stroke=\"orangered\" cx=\"444.12\" cy=\"-257.04\" rx=\"18.27\" ry=\"12.04\"/>\n<text text-anchor=\"middle\" x=\"444.12\" y=\"-255.14\" font-family=\"monospace\" font-size=\"8.00\" fill=\"mediumslateblue\">10</text>\n</g>\n<!-- 6&#45;&#45;10 -->\n<g id=\"edge9\" class=\"edge\">\n<title>6&#45;&#45;10</title>\n<path fill=\"none\" stroke=\"purple\" d=\"M383.84,-249.6C395.9,-251.08 412.96,-253.19 425.86,-254.78\"/>\n<text text-anchor=\"middle\" x=\"395.35\" y=\"-254.59\" font-family=\"monospace\" font-size=\"7.00\">2.00</text>\n</g>\n<!-- 7&#45;&#45;6 -->\n<g id=\"edge8\" class=\"edge\">\n<title>7&#45;&#45;6</title>\n<path fill=\"none\" stroke=\"purple\" d=\"M308.32,-243.16C321.58,-244.17 340.85,-245.63 354.09,-246.63\"/>\n<text text-anchor=\"middle\" x=\"321.71\" y=\"-247.3\" font-family=\"monospace\" font-size=\"7.00\">3.16</text>\n</g>\n<!-- 9 -->\n<g id=\"node10\" class=\"node\">\n<title>9</title>\n<ellipse fill=\"none\" stroke=\"orangered\" cx=\"565.2\" cy=\"-189.05\" rx=\"14.7\" ry=\"12.04\"/>\n<text text-anchor=\"middle\" x=\"565.2\" y=\"-187.15\" font-family=\"monospace\" font-size=\"8.00\" fill=\"mediumslateblue\">9</text>\n</g>\n<!-- 11 -->\n<g id=\"node12\" class=\"node\">\n<title>11</title>\n<ellipse fill=\"none\" stroke=\"orangered\" cx=\"523.26\" cy=\"-259.37\" rx=\"18.27\" ry=\"12.04\"/>\n<text text-anchor=\"middle\" x=\"523.26\" y=\"-257.47\" font-family=\"monospace\" font-size=\"8.00\" fill=\"mediumslateblue\">11</text>\n</g>\n<!-- 10&#45;&#45;11 -->\n<g id=\"edge10\" class=\"edge\">\n<title>10&#45;&#45;11</title>\n<path fill=\"none\" stroke=\"purple\" d=\"M462.88,-257.59C475.49,-257.96 492.05,-258.45 504.64,-258.82\"/>\n<text text-anchor=\"middle\" x=\"474.26\" y=\"-260.6\" font-family=\"monospace\" font-size=\"7.00\">2.24</text>\n</g>\n<!-- 11&#45;&#45;9 -->\n<g id=\"edge11\" class=\"edge\">\n<title>11&#45;&#45;9</title>\n<path fill=\"none\" stroke=\"purple\" d=\"M530,-248.07C537.87,-234.87 550.81,-213.18 558.61,-200.09\"/>\n<text text-anchor=\"middle\" x=\"534.8\" y=\"-226.48\" font-family=\"monospace\" font-size=\"7.00\">2.83</text>\n</g>\n<!-- 12 -->\n<g id=\"node13\" class=\"node\">\n<title>12</title>\n<ellipse fill=\"none\" stroke=\"orangered\" cx=\"572.27\" cy=\"-322\" rx=\"18.27\" ry=\"12.04\"/>\n<text text-anchor=\"middle\" x=\"572.27\" y=\"-320.1\" font-family=\"monospace\" font-size=\"8.00\" fill=\"mediumslateblue\">12</text>\n</g>\n<!-- 11&#45;&#45;12 -->\n<g id=\"edge12\" class=\"edge\">\n<title>11&#45;&#45;12</title>\n<path fill=\"none\" stroke=\"purple\" d=\"M531.8,-270.28C540.79,-281.77 554.87,-299.77 563.83,-311.22\"/>\n<text text-anchor=\"middle\" x=\"538.31\" y=\"-293.15\" font-family=\"monospace\" font-size=\"7.00\">2.83</text>\n</g>\n<!-- 13 -->\n<g id=\"node14\" class=\"node\">\n<title>13</title>\n<ellipse fill=\"none\" stroke=\"orangered\" cx=\"627.23\" cy=\"-373.03\" rx=\"18.27\" ry=\"12.04\"/>\n<text text-anchor=\"middle\" x=\"627.23\" y=\"-371.13\" font-family=\"monospace\" font-size=\"8.00\" fill=\"mediumslateblue\">13</text>\n</g>\n<!-- 12&#45;&#45;13 -->\n<g id=\"edge13\" class=\"edge\">\n<title>12&#45;&#45;13</title>\n<path fill=\"none\" stroke=\"purple\" d=\"M582.87,-331.84C592.47,-340.76 606.57,-353.85 616.29,-362.87\"/>\n<text text-anchor=\"middle\" x=\"590.08\" y=\"-349.75\" font-family=\"monospace\" font-size=\"7.00\">2.24</text>\n</g>\n<!-- 14 -->\n<g id=\"node15\" class=\"node\">\n<title>14</title>\n<ellipse fill=\"none\" stroke=\"orangered\" cx=\"682.08\" cy=\"-421.91\" rx=\"18.27\" ry=\"12.04\"/>\n<text text-anchor=\"middle\" x=\"682.08\" y=\"-420.01\" font-family=\"monospace\" font-size=\"8.00\" fill=\"mediumslateblue\">14</text>\n</g>\n<!-- 13&#45;&#45;14 -->\n<g id=\"edge14\" class=\"edge\">\n<title>13&#45;&#45;14</title>\n<path fill=\"none\" stroke=\"purple\" d=\"M638.33,-382.92C647.84,-391.4 661.49,-403.56 671,-412.04\"/>\n<text text-anchor=\"middle\" x=\"645.16\" y=\"-399.88\" font-family=\"monospace\" font-size=\"7.00\">2.24</text>\n</g>\n<!-- 15 -->\n<g id=\"node16\" class=\"node\">\n<title>15</title>\n<ellipse fill=\"none\" stroke=\"orangered\" cx=\"739.06\" cy=\"-467.17\" rx=\"18.27\" ry=\"12.04\"/>\n<text text-anchor=\"middle\" x=\"739.06\" y=\"-465.27\" font-family=\"monospace\" font-size=\"8.00\" fill=\"mediumslateblue\">15</text>\n</g>\n<!-- 14&#45;&#45;15 -->\n<g id=\"edge15\" class=\"edge\">\n<title>14&#45;&#45;15</title>\n<path fill=\"none\" stroke=\"purple\" d=\"M693.89,-431.29C703.67,-439.06 717.5,-450.04 727.27,-457.81\"/>\n<text text-anchor=\"middle\" x=\"701.08\" y=\"-446.95\" font-family=\"monospace\" font-size=\"7.00\">2.00</text>\n</g>\n</g>\n</svg>\n",
            "text/plain": [
              "<graphviz.graphs.Graph at 0x78284c2b2770>"
            ]
          },
          "metadata": {},
          "execution_count": 66
        }
      ]
    },
    {
      "cell_type": "markdown",
      "source": [
        "\n",
        "### *Justificación*\n",
        "\n",
        "La elección del algoritmo de Prim en la solución se fundamenta en la búsqueda del tamaño mínimo para interconectar los faroles, considerando un punto de partida establecido. La implementación de este algoritmo permitió encontrar una nueva red de interconexión de faroles a partir de una coordenada inicial, y los resultados evidencian que la distancia mínima en esta nueva propuesta coincide con la presentada por el ingeniero en la propuesta inicial. Este respaldo de la distancia mínima obtenida valida la eficacia del algoritmo de Prim en la minimización del cable necesario para interconectar los faroles, cumpliendo así con los requisitos de T-ALUMBRA y proporcionando otra alternativa de solución óptima de red al problema planteado.\n",
        "\n",
        "\n",
        "\n",
        "\n",
        "\n",
        "\n"
      ],
      "metadata": {
        "id": "rfypTf3a_BCu"
      }
    }
  ]
}