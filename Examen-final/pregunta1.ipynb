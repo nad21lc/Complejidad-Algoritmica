{
 "cells": [
  {
   "cell_type": "markdown",
   "metadata": {},
   "source": [
    "Pregunta 1\n",
    "\n",
    "*¡No más chanchitos rotos prematuramente!*\n",
    "\n",
    "Eduardo tiene la costumbre de utilizar su alcancia de chanchito cada vez que tiene un exceso de monedas en su bolsillo, pero como sabemos, este proceso es irreversible, por tanto, las monedas no se podrán sacar sin romper la alcancia.\n",
    "\n",
    "Después de un tiempo suficientemente largo, debería haber suficiente efectivo en la alcancia para ser utilizado en algunos pagos\n",
    "\n",
    "Pero hay un gran problema con las alcancias No es posible determinar cuánto dinero hay dentro. Entonces. podríamos romper el chanchito en pedazos solo para descubrir que no hay suficiente dinero. Claramente, queremos evitar esta desagradable situación. La única posibilidad es pesar la alcancía e intentar adivinar cuántas monedas hay dentro. Suponga que podemos determinar exactamente el peso del chanchito y do y que conocemos los pesos de todas las monedas de una moneda dada. Luego hay una cantidad minima de dinero en la alcancía que podemos garantizar\n",
    "\n",
    "Su tarea es descubrir el peor de los casos y determinar la cantidad mínima de efectivo dentro de la alcancia\n",
    "\n",
    "Necesitamos su ayuda, como excelente programador del curso de Complejidad Algoritmica de la UPC\n",
    "\n",
    "INPUT\n",
    "\n",
    "    - La entrada consiste en casos de prueba T\n",
    "    \n",
    "    - El número de ellos (T) se da en la primera linea del archivo de entrada\n",
    "    \n",
    "    - Cada caso de prueba comienza con una línea que contiene dos números enteros Ey F Indican el peso de un cerdo vacio y del cerdo lleno de monedas Ambos pesos se dan en gramos Ningún chanchito pesará más de 10 kg, \n",
    "    es decir 1 <= E <= F <= 10000\n",
    "\n",
    "    - En la segunda linea de cada caso de prueba, \n",
    "    hay un número entero N (1 <= N <= 500) que da el número de varias monedas utilizadas en la moneda dada\n",
    "\n",
    "    - Después de la segunda linea hay exactamente N lineas, cada una de las cuales especifica un tipo de moneda Estas lineas contienen dos números enteros cada una, Py W. donde Pes el valor de la moneda en unidades monetarias. W es su peso en gramos\n",
    "\n",
    "    - Los valores de Py W estan en los siguientes rangos (1<P<= 50000, 1<= W<=10000)\n",
    "\n",
    "OUTPUT\n",
    "\n",
    "• Imprima exactamente una linea de salida para cada caso de prueba\n",
    "\n",
    "• La linea debe contener la oración \"La cantidad minima de dinero en la alcancia es de X\", donde X es la cantidad minima de dinero que se puede lograr usando monedas con el peso total dado.\n",
    "\n",
    "• Si no se puede alcanzar el peso exactamente, Imprima una linea \"Esto es imposible\"\n",
    "\n",
    "EJEMPLO\n",
    "\n",
    "Entrada de muestra\n",
    "3\n",
    "10 110\n",
    "2\n",
    "1 1\n",
    "30 50\n",
    "10 110\n",
    "2\n",
    "1 1\n",
    "50 30\n",
    "1 6\n",
    "2\n",
    "10 3\n",
    "20 4\n",
    "\n",
    "SALIDA DE MUESTRA\n",
    "\n",
    "La cantidad minima de dinero en la alcancia es de 60.\n",
    "La cantidad minima de dinero en la alcancia es de 100.\n",
    "Esto es imposible"
   ]
  },
  {
   "cell_type": "code",
   "execution_count": 1,
   "metadata": {},
   "outputs": [
    {
     "name": "stdout",
     "output_type": "stream",
     "text": [
      "Writing 1.txt\n"
     ]
    }
   ],
   "source": [
    "%%file 1.txt\n",
    "3\n",
    "10 110\n",
    "2\n",
    "1 1\n",
    "30 50\n",
    "10 110\n",
    "2\n",
    "1 1\n",
    "50 30\n",
    "1 6\n",
    "2\n",
    "10 3\n",
    "20 4"
   ]
  },
  {
   "cell_type": "code",
   "execution_count": 22,
   "metadata": {},
   "outputs": [
    {
     "name": "stdout",
     "output_type": "stream",
     "text": [
      "\n",
      "Caso de prueba 1: \n",
      "La cantidad mínima de dinero en la alcancía es de 60\n",
      "\n",
      "Caso de prueba 2: \n",
      "La cantidad mínima de dinero en la alcancía es de 100\n",
      "\n",
      "Caso de prueba 3: \n",
      "Esto es imposible\n"
     ]
    }
   ],
   "source": [
    "import sys\n",
    "\n",
    "def minCoins(coins, peso):\n",
    "    n = len(coins)\n",
    "    # Definir arreglo DP\n",
    "    dp = [[sys.maxsize] * (peso + 1) for _ in range(n + 1)]\n",
    "    \n",
    "    for i in range(n + 1):\n",
    "        dp[i][0] = 0\n",
    "    \n",
    "    for i in range(1, n + 1):\n",
    "        for j in range(1, peso + 1):\n",
    "            p, w = coins[i - 1]\n",
    "            if w <= j:\n",
    "                dp[i][j] = min(dp[i - 1][j], p + dp[i][j - w])\n",
    "            else:\n",
    "                dp[i][j] = dp[i - 1][j]\n",
    "    \n",
    "    return dp[n][peso]\n",
    "\n",
    "# Lectura del archivo de entrada\n",
    "with open(\"1.txt\", \"r\") as file:\n",
    "    \n",
    "    # Primera línea = número de casos de prueba\n",
    "    nCasos = int(file.readline())\n",
    "\n",
    "    for i in range(nCasos):\n",
    "        # Cada caso de prueba comienza con una línea que contiene dos números enteros E y F\n",
    "        # E = peso de un cerdo vacío   F = del cerdo lleno de monedas\n",
    "        E, F = map(int, file.readline().split())\n",
    "        \n",
    "        # En la segunda línea de cada caso de prueba, hay un número entero N (1 <= N <= 500) que da el número de varias monedas utilizadas\n",
    "        N = int(file.readline())\n",
    "        \n",
    "        coins = []\n",
    "        \n",
    "        # Después de la segunda línea hay exactamente N líneas\n",
    "        for _ in range(N):\n",
    "            # Cada línea tiene P = valor de moneda y W = peso en gramos\n",
    "            P, W = map(int, file.readline().split())\n",
    "            coins.append((P, W))\n",
    "        \n",
    "        peso = F - E\n",
    "        result = minCoins(coins, peso)\n",
    "        \n",
    "        print(f\"\\nCaso de prueba {i + 1}: \")\n",
    "        if result == sys.maxsize:\n",
    "            print(\"Esto es imposible\")\n",
    "            break\n",
    "        print(\"La cantidad mínima de dinero en la alcancía es de\", result)\n"
   ]
  },
  {
   "cell_type": "markdown",
   "metadata": {},
   "source": [
    "#### *Sustentación:*\n",
    "\n",
    "La elección de utilizar programación dinámica para resolver el Problema del Chanchito se basa en su habilidad para enfrentar problemas complejos de optimización. Al descomponer el problema en subproblemas más manejables, evitamos realizar cálculos repetitivos, lo que mejora significativamente la eficiencia del algoritmo."
   ]
  }
 ],
 "metadata": {
  "kernelspec": {
   "display_name": "Python 3",
   "language": "python",
   "name": "python3"
  },
  "language_info": {
   "codemirror_mode": {
    "name": "ipython",
    "version": 3
   },
   "file_extension": ".py",
   "mimetype": "text/x-python",
   "name": "python",
   "nbconvert_exporter": "python",
   "pygments_lexer": "ipython3",
   "version": "3.12.0"
  }
 },
 "nbformat": 4,
 "nbformat_minor": 2
}
