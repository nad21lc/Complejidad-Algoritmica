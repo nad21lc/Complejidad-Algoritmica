{
 "cells": [
  {
   "cell_type": "code",
   "execution_count": 1,
   "metadata": {},
   "outputs": [
    {
     "name": "stdout",
     "output_type": "stream",
     "text": [
      "Overwriting linterna.txt\n"
     ]
    }
   ],
   "source": [
    "%%file linterna.txt\n",
    "2\n",
    "5\n",
    "1 1 1\n",
    "2 2 2\n",
    "1 2 1\n",
    "4 4 4\n",
    "4 4 3\n",
    "2\n",
    "3\n",
    "1 2 3\n",
    "3 2 1\n",
    "100 200 300\n",
    "2"
   ]
  },
  {
   "cell_type": "code",
   "execution_count": 2,
   "metadata": {},
   "outputs": [
    {
     "name": "stdout",
     "output_type": "stream",
     "text": [
      "3 2 \n",
      "\n",
      "2 1 \n",
      "\n"
     ]
    }
   ],
   "source": [
    "import math\n",
    "\n",
    "def obtenerMSTPorKruskal(graph):\n",
    "    numNodos = len(graph)\n",
    "    bordes = []\n",
    "\n",
    "    # Sacar todas las aristas, su conexión y peso\n",
    "    for u in range(numNodos):\n",
    "        for v, peso in graph[u]:\n",
    "            bordes.append((u, v, peso))\n",
    "\n",
    "    # Ordenar por peso\n",
    "    bordes.sort(key=lambda edge: edge[2])\n",
    "\n",
    "    # Aquí guardaré las aristas del MST\n",
    "    mst = []\n",
    "    padre = list(range(numNodos))\n",
    "\n",
    "    def find(nodoBuscado):\n",
    "        if padre[nodoBuscado] == nodoBuscado:\n",
    "            return nodoBuscado\n",
    "        return find(padre[nodoBuscado])\n",
    "\n",
    "    def union(u, v):\n",
    "        padreU = find(u)\n",
    "        padreV = find(v)\n",
    "\n",
    "        if padreU != padreV:\n",
    "            padre[padreU] = padreV\n",
    "            return True\n",
    "\n",
    "        return False\n",
    "\n",
    "    for u, v, peso in bordes:\n",
    "        if u < numNodos and v < numNodos:\n",
    "            if union(u, v) == True:\n",
    "                mst.append((u, v, peso))\n",
    "\n",
    "    return mst\n",
    "\n",
    "def distanciaEuclidiana(punto1, punto2):\n",
    "    return math.sqrt((punto1[0] - punto2[0])**2 + (punto1[1] - punto2[1])**2 + (punto1[2] - punto2[2])**2)\n",
    "\n",
    "with open(\"linterna.txt\", \"r\") as archivo:\n",
    "    # Leer el n casos de prueba\n",
    "    t = int(archivo.readline().strip())\n",
    "\n",
    "    for _ in range(t):\n",
    "        # Leer el n de zonas peligrosas\n",
    "        n = int(archivo.readline().strip())\n",
    "        # Leer las coordenadas de las zonas peligrosas\n",
    "        zonas = [tuple(map(int, archivo.readline().split())) for _ in range(n)]\n",
    "        # Leer el n equipos de Linterna Verde\n",
    "        k = int(archivo.readline().strip())\n",
    "\n",
    "        # Crear una lista de adyacencia para representar el grafo\n",
    "        grafo = [[] for _ in range(n)]\n",
    "\n",
    "        # Calcular las distancias euclidianas y construir el grafo\n",
    "        for i in range(n):\n",
    "            for j in range(i + 1, n):\n",
    "                distancia = distanciaEuclidiana(zonas[i], zonas[j])\n",
    "                grafo[i].append((j, distancia))\n",
    "                grafo[j].append((i, distancia))\n",
    "\n",
    "        mst = obtenerMSTPorKruskal(grafo)\n",
    "        mst.sort(key=lambda arista: arista[2], reverse=True)\n",
    "\n",
    "        # Inicializar la lista de sectores\n",
    "        sectores = [0] * k\n",
    "\n",
    "        # Distribuir las zonas en los sectores según el MST\n",
    "        for i in range(n):\n",
    "            sectores[i % k] += 1\n",
    "\n",
    "        print(*sectores, \"\\n\")"
   ]
  },
  {
   "cell_type": "markdown",
   "metadata": {},
   "source": [
    "### Justificación\n",
    "\n",
    "Elegí el algoritmo de Kruskal para resolver el problema de los \"Linterna Verde\" debido a su eficacia en grafos no dirigidos ponderados. Dado que el objetivo es organizar equipos en base a distancias euclidianas entre zonas peligrosas, Kruskal, al buscar el Árbol de Expansión Mínima, garantiza conexiones eficientes y sectores organizados por tamaño. Esta elección se alinea con la naturaleza del problema y cumple con los requisitos específicos de formación de equipos y organización en sectores."
   ]
  }
 ],
 "metadata": {
  "kernelspec": {
   "display_name": "Python 3",
   "language": "python",
   "name": "python3"
  },
  "language_info": {
   "codemirror_mode": {
    "name": "ipython",
    "version": 3
   },
   "file_extension": ".py",
   "mimetype": "text/x-python",
   "name": "python",
   "nbconvert_exporter": "python",
   "pygments_lexer": "ipython3",
   "version": "3.12.0"
  }
 },
 "nbformat": 4,
 "nbformat_minor": 2
}
