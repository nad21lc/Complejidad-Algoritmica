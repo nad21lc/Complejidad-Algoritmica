{
 "cells": [
  {
   "cell_type": "code",
   "execution_count": 6,
   "metadata": {},
   "outputs": [
    {
     "name": "stdout",
     "output_type": "stream",
     "text": [
      "Overwriting carrera.txt\n"
     ]
    }
   ],
   "source": [
    "%%file carrera.txt\n",
    "3\n",
    "1 2 3 4 5 6 7 8 9 0\n",
    "1 3 8 2 0\n",
    "2 5 7 8 9 0\n",
    "1 1 1 1 1 1 2 3 0\n",
    "1 3 1 3 5 7 8 9 3 4 0\n",
    "1 2 35 0\n",
    "0\n",
    "1 3 5 7 0\n",
    "3 7 5 1 0\n",
    "0\n",
    "1 2 1 1 0\n",
    "1 1 1 0\n",
    "0"
   ]
  },
  {
   "cell_type": "code",
   "execution_count": 26,
   "metadata": {},
   "outputs": [
    {
     "name": "stdout",
     "output_type": "stream",
     "text": [
      "6\n",
      "2\n",
      "3\n"
     ]
    }
   ],
   "source": [
    "def maxEncuentros(rutaAlejandra, rutasDiego):\n",
    "    resultado = 0\n",
    "    \n",
    "    for rutaDiego in rutasDiego:\n",
    "        n = len(rutaAlejandra)\n",
    "        m = len(rutaDiego)\n",
    "        \n",
    "        # Inicializar la matriz para almacenar los resultados intermedios\n",
    "        dp = [[0] * (n + 1) for _ in range(m + 1)]\n",
    "        \n",
    "        # Calcular el número de encuentros para cada subproblema\n",
    "        for i in range(1, m + 1):\n",
    "            for j in range(1, n + 1):\n",
    "                dp[i][j] = max(dp[i - 1][j], dp[i][j - 1])\n",
    "                if rutaAlejandra[j - 1] == rutaDiego[i - 1]:\n",
    "                    dp[i][j] = max(dp[i][j], dp[i - 1][j - 1] + 1)\n",
    "        \n",
    "        resultado = max(resultado, dp[m][n])\n",
    "    \n",
    "    return resultado - 1\n",
    "\n",
    "\n",
    "with open(\"carrera.txt\", \"r\") as archivo:\n",
    "    # Leer el número de conjuntos de datos\n",
    "    d = int(archivo.readline().strip())\n",
    "    \n",
    "    for _ in range(d):\n",
    "        # Leer la ruta de Alejandra desde la tarjeta\n",
    "        rutaAlejandra = list(map(int, archivo.readline().split()))\n",
    "        \n",
    "        # Inicializar la lista de rutas de Diego\n",
    "        rutasDiego = []\n",
    "        \n",
    "        # Leer las rutas de Diego hasta encontrar el indicador de fin (0)\n",
    "        while True:\n",
    "            ruta = list(map(int, archivo.readline().split()))\n",
    "            if ruta[0] == 0:\n",
    "                break\n",
    "            rutasDiego.append(ruta)\n",
    "            \n",
    "        # Calcular y mostrar el resultado para el conjunto de datos actual\n",
    "        resultado = maxEncuentros(rutaAlejandra, rutasDiego)\n",
    "        print(resultado)"
   ]
  },
  {
   "cell_type": "markdown",
   "metadata": {},
   "source": [
    "### Justificación\n",
    "\n",
    "Opté por implementar un enfoque de programación dinámica para resolver el problema de Alejandra y Diego en las carreras de campo traviesa debido a la naturaleza segmentada de las rutas y la necesidad de encontrar la máxima cantidad de encuentros entre ellos. La programación dinámica permite descomponer eficientemente el problema en subproblemas más pequeños, optimizando soluciones locales y evitando el recálculo redundante al abordar la superposición de subproblemas. Esta elección proporciona una solución eficiente y sistemática para calcular el número máximo de encuentros en cada segmento de la ruta de Diego, contribuyendo así a la solución global del problema."
   ]
  }
 ],
 "metadata": {
  "kernelspec": {
   "display_name": "Python 3",
   "language": "python",
   "name": "python3"
  },
  "language_info": {
   "codemirror_mode": {
    "name": "ipython",
    "version": 3
   },
   "file_extension": ".py",
   "mimetype": "text/x-python",
   "name": "python",
   "nbconvert_exporter": "python",
   "pygments_lexer": "ipython3",
   "version": "3.12.0"
  }
 },
 "nbformat": 4,
 "nbformat_minor": 2
}
