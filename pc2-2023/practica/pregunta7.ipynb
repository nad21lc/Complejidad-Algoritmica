{
  "cells": [
    {
      "cell_type": "code",
      "execution_count": 2,
      "metadata": {
        "id": "gyVtzMjOEOX9"
      },
      "outputs": [],
      "source": [
        "import graphviz as gv\n",
        "\n",
        "def readAdjl(fn, haslabels=False, weighted=False, sep=\"|\"):\n",
        "  with open(fn) as f:\n",
        "    labels = None\n",
        "    if haslabels:\n",
        "      labels = f.readline().strip().split()\n",
        "    L = []\n",
        "    for line in f:\n",
        "      if weighted:\n",
        "        L.append([tuple(map(int, p.split(sep))) for p in line.strip().split()])\n",
        "        # line => \"1|3 2|5 4|4\" ==> [(1, 3), (2, 5), (4, 4)]\n",
        "      else:\n",
        "        L.append(list(map(int, line.strip().split()))) # \"1 3 5\" => [1, 3, 5]\n",
        "        # L.append([int(x) for x in line.strip().split()])\n",
        "  return L, labels\n",
        "\n",
        "def adjlShow(L, labels=None, directed=False, weighted=False, path=[],\n",
        "             layout=\"sfdp\", node_labels=None):\n",
        "    g = gv.Digraph(\"G\") if directed else gv.Graph(\"G\")\n",
        "    g.graph_attr[\"layout\"] = layout\n",
        "    g.edge_attr[\"color\"] = \"gray\"\n",
        "    g.node_attr[\"color\"] = \"orangered\"\n",
        "    g.node_attr[\"width\"] = \"0.1\"\n",
        "    g.node_attr[\"height\"] = \"0.1\"\n",
        "    g.node_attr[\"fontsize\"] = \"8\"\n",
        "    g.node_attr[\"fontcolor\"] = \"mediumslateblue\"\n",
        "    g.node_attr[\"fontname\"] = \"monospace\"\n",
        "    g.edge_attr[\"fontsize\"] = \"8\"\n",
        "    g.edge_attr[\"fontname\"] = \"monospace\"\n",
        "    n = len(L)\n",
        "    for u in range(n):\n",
        "        if labels:\n",
        "            label = labels[u]\n",
        "        else:\n",
        "            label = str(u)\n",
        "        if node_labels and u in node_labels:\n",
        "            label = node_labels[u]\n",
        "        g.node(str(u), label)\n",
        "\n",
        "    added = set()\n",
        "    for v, u in enumerate(path):\n",
        "        if u is not None:\n",
        "            if weighted:\n",
        "                for vi, w in L[u]:\n",
        "                    if vi == v:\n",
        "                        break\n",
        "                g.edge(str(u), str(v), str(w), dir=\"forward\", penwidth=\"2\", color=\"orange\")\n",
        "            else:\n",
        "                g.edge(str(u), str(v), dir=\"forward\", penwidth=\"2\", color=\"orange\")\n",
        "            added.add(f\"{u},{v}\")\n",
        "            added.add(f\"{v},{u}\")\n",
        "\n",
        "    if weighted:\n",
        "        for u in range(n):\n",
        "            for v, w in L[u]:\n",
        "                if not directed and f\"{u},{v}\" not in added:\n",
        "                    added.add(f\"{u},{v}\")\n",
        "                    added.add(f\"{v},{u}\")\n",
        "                    g.edge(str(u), str(v), str(w))\n",
        "                elif directed:\n",
        "                    g.edge(str(u), str(v), str(w))\n",
        "    else:\n",
        "        for u in range(n):\n",
        "            for v in L[u]:\n",
        "                if not directed and f\"{u},{v}\" not in added:\n",
        "                    added.add(f\"{u},{v}\")\n",
        "                    added.add(f\"{v},{u}\")\n",
        "                    g.edge(str(u), str(v))\n",
        "                elif directed:\n",
        "                    g.edge(str(u), str(v))\n",
        "\n",
        "    return g"
      ]
    },
    {
      "cell_type": "code",
      "execution_count": 3,
      "metadata": {
        "colab": {
          "base_uri": "https://localhost:8080/"
        },
        "id": "7nn_UFqGEUfb",
        "outputId": "686f67b6-3514-41f4-f0a6-d97ab391ec45"
      },
      "outputs": [
        {
          "name": "stdout",
          "output_type": "stream",
          "text": [
            "Writing 2.in\n"
          ]
        }
      ],
      "source": [
        "%%file 2.in\n",
        "1|28\n",
        "2|16 6|14\n",
        "3|12\n",
        "4|22 6|18\n",
        "5|25\n",
        "0|10\n",
        "4|24"
      ]
    },
    {
      "cell_type": "code",
      "execution_count": 4,
      "metadata": {
        "colab": {
          "base_uri": "https://localhost:8080/",
          "height": 448
        },
        "id": "3oA_p35IEVtN",
        "outputId": "a66a23ef-6255-4411-d23a-2cfeecd103ab"
      },
      "outputs": [
        {
          "name": "stderr",
          "output_type": "stream",
          "text": [
            "Error: remove_overlap: Graphviz not built with triangulation library\n"
          ]
        },
        {
          "name": "stdout",
          "output_type": "stream",
          "text": [
            "Nodo A: [(1, 28)]\n",
            "Nodo B: [(2, 16), (6, 14)]\n",
            "Nodo C: [(3, 12)]\n",
            "Nodo D: [(4, 22), (6, 18)]\n",
            "Nodo E: [(5, 25)]\n",
            "Nodo F: [(0, 10)]\n",
            "Nodo G: [(4, 24)]\n"
          ]
        },
        {
          "ename": "CalledProcessError",
          "evalue": "Command '[WindowsPath('dot'), '-Kdot', '-Tsvg']' returned non-zero exit status 1. [stderr: 'Error: remove_overlap: Graphviz not built with triangulation library\\n']",
          "output_type": "error",
          "traceback": [
            "\u001b[1;31m---------------------------------------------------------------------------\u001b[0m",
            "\u001b[1;31mCalledProcessError\u001b[0m                        Traceback (most recent call last)",
            "File \u001b[1;32mc:\\Users\\Nadia\\AppData\\Local\\Programs\\Python\\Python312\\Lib\\site-packages\\graphviz\\backend\\execute.py:91\u001b[0m, in \u001b[0;36mrun_check\u001b[1;34m(cmd, input_lines, encoding, quiet, **kwargs)\u001b[0m\n\u001b[0;32m     90\u001b[0m \u001b[39mtry\u001b[39;00m:\n\u001b[1;32m---> 91\u001b[0m     proc\u001b[39m.\u001b[39;49mcheck_returncode()\n\u001b[0;32m     92\u001b[0m \u001b[39mexcept\u001b[39;00m subprocess\u001b[39m.\u001b[39mCalledProcessError \u001b[39mas\u001b[39;00m e:\n",
            "File \u001b[1;32mc:\\Users\\Nadia\\AppData\\Local\\Programs\\Python\\Python312\\Lib\\subprocess.py:502\u001b[0m, in \u001b[0;36mCompletedProcess.check_returncode\u001b[1;34m(self)\u001b[0m\n\u001b[0;32m    501\u001b[0m \u001b[39mif\u001b[39;00m \u001b[39mself\u001b[39m\u001b[39m.\u001b[39mreturncode:\n\u001b[1;32m--> 502\u001b[0m     \u001b[39mraise\u001b[39;00m CalledProcessError(\u001b[39mself\u001b[39m\u001b[39m.\u001b[39mreturncode, \u001b[39mself\u001b[39m\u001b[39m.\u001b[39margs, \u001b[39mself\u001b[39m\u001b[39m.\u001b[39mstdout,\n\u001b[0;32m    503\u001b[0m                              \u001b[39mself\u001b[39m\u001b[39m.\u001b[39mstderr)\n",
            "\u001b[1;31mCalledProcessError\u001b[0m: Command '[WindowsPath('dot'), '-Kdot', '-Tsvg']' returned non-zero exit status 1.",
            "\nDuring handling of the above exception, another exception occurred:\n",
            "\u001b[1;31mCalledProcessError\u001b[0m                        Traceback (most recent call last)",
            "File \u001b[1;32m~\\AppData\\Roaming\\Python\\Python312\\site-packages\\IPython\\core\\formatters.py:974\u001b[0m, in \u001b[0;36mMimeBundleFormatter.__call__\u001b[1;34m(self, obj, include, exclude)\u001b[0m\n\u001b[0;32m    971\u001b[0m     method \u001b[39m=\u001b[39m get_real_method(obj, \u001b[39mself\u001b[39m\u001b[39m.\u001b[39mprint_method)\n\u001b[0;32m    973\u001b[0m     \u001b[39mif\u001b[39;00m method \u001b[39mis\u001b[39;00m \u001b[39mnot\u001b[39;00m \u001b[39mNone\u001b[39;00m:\n\u001b[1;32m--> 974\u001b[0m         \u001b[39mreturn\u001b[39;00m method(include\u001b[39m=\u001b[39;49minclude, exclude\u001b[39m=\u001b[39;49mexclude)\n\u001b[0;32m    975\u001b[0m     \u001b[39mreturn\u001b[39;00m \u001b[39mNone\u001b[39;00m\n\u001b[0;32m    976\u001b[0m \u001b[39melse\u001b[39;00m:\n",
            "File \u001b[1;32mc:\\Users\\Nadia\\AppData\\Local\\Programs\\Python\\Python312\\Lib\\site-packages\\graphviz\\jupyter_integration.py:98\u001b[0m, in \u001b[0;36mJupyterIntegration._repr_mimebundle_\u001b[1;34m(self, include, exclude, **_)\u001b[0m\n\u001b[0;32m     96\u001b[0m include \u001b[39m=\u001b[39m \u001b[39mset\u001b[39m(include) \u001b[39mif\u001b[39;00m include \u001b[39mis\u001b[39;00m \u001b[39mnot\u001b[39;00m \u001b[39mNone\u001b[39;00m \u001b[39melse\u001b[39;00m {\u001b[39mself\u001b[39m\u001b[39m.\u001b[39m_jupyter_mimetype}\n\u001b[0;32m     97\u001b[0m include \u001b[39m-\u001b[39m\u001b[39m=\u001b[39m \u001b[39mset\u001b[39m(exclude \u001b[39mor\u001b[39;00m [])\n\u001b[1;32m---> 98\u001b[0m \u001b[39mreturn\u001b[39;00m {mimetype: \u001b[39mgetattr\u001b[39;49m(\u001b[39mself\u001b[39;49m, method_name)()\n\u001b[0;32m     99\u001b[0m         \u001b[39mfor\u001b[39;00m mimetype, method_name \u001b[39min\u001b[39;00m MIME_TYPES\u001b[39m.\u001b[39mitems()\n\u001b[0;32m    100\u001b[0m         \u001b[39mif\u001b[39;00m mimetype \u001b[39min\u001b[39;00m include}\n",
            "File \u001b[1;32mc:\\Users\\Nadia\\AppData\\Local\\Programs\\Python\\Python312\\Lib\\site-packages\\graphviz\\jupyter_integration.py:112\u001b[0m, in \u001b[0;36mJupyterIntegration._repr_image_svg_xml\u001b[1;34m(self)\u001b[0m\n\u001b[0;32m    110\u001b[0m \u001b[39mdef\u001b[39;00m \u001b[39m_repr_image_svg_xml\u001b[39m(\u001b[39mself\u001b[39m) \u001b[39m-\u001b[39m\u001b[39m>\u001b[39m \u001b[39mstr\u001b[39m:\n\u001b[0;32m    111\u001b[0m \u001b[39m    \u001b[39m\u001b[39m\"\"\"Return the rendered graph as SVG string.\"\"\"\u001b[39;00m\n\u001b[1;32m--> 112\u001b[0m     \u001b[39mreturn\u001b[39;00m \u001b[39mself\u001b[39;49m\u001b[39m.\u001b[39;49mpipe(\u001b[39mformat\u001b[39;49m\u001b[39m=\u001b[39;49m\u001b[39m'\u001b[39;49m\u001b[39msvg\u001b[39;49m\u001b[39m'\u001b[39;49m, encoding\u001b[39m=\u001b[39;49mSVG_ENCODING)\n",
            "File \u001b[1;32mc:\\Users\\Nadia\\AppData\\Local\\Programs\\Python\\Python312\\Lib\\site-packages\\graphviz\\piping.py:104\u001b[0m, in \u001b[0;36mPipe.pipe\u001b[1;34m(self, format, renderer, formatter, neato_no_op, quiet, engine, encoding)\u001b[0m\n\u001b[0;32m     55\u001b[0m \u001b[39mdef\u001b[39;00m \u001b[39mpipe\u001b[39m(\u001b[39mself\u001b[39m,\n\u001b[0;32m     56\u001b[0m          \u001b[39mformat\u001b[39m: typing\u001b[39m.\u001b[39mOptional[\u001b[39mstr\u001b[39m] \u001b[39m=\u001b[39m \u001b[39mNone\u001b[39;00m,\n\u001b[0;32m     57\u001b[0m          renderer: typing\u001b[39m.\u001b[39mOptional[\u001b[39mstr\u001b[39m] \u001b[39m=\u001b[39m \u001b[39mNone\u001b[39;00m,\n\u001b[1;32m   (...)\u001b[0m\n\u001b[0;32m     61\u001b[0m          engine: typing\u001b[39m.\u001b[39mOptional[\u001b[39mstr\u001b[39m] \u001b[39m=\u001b[39m \u001b[39mNone\u001b[39;00m,\n\u001b[0;32m     62\u001b[0m          encoding: typing\u001b[39m.\u001b[39mOptional[\u001b[39mstr\u001b[39m] \u001b[39m=\u001b[39m \u001b[39mNone\u001b[39;00m) \u001b[39m-\u001b[39m\u001b[39m>\u001b[39m typing\u001b[39m.\u001b[39mUnion[\u001b[39mbytes\u001b[39m, \u001b[39mstr\u001b[39m]:\n\u001b[0;32m     63\u001b[0m \u001b[39m    \u001b[39m\u001b[39m\"\"\"Return the source piped through the Graphviz layout command.\u001b[39;00m\n\u001b[0;32m     64\u001b[0m \n\u001b[0;32m     65\u001b[0m \u001b[39m    Args:\u001b[39;00m\n\u001b[1;32m   (...)\u001b[0m\n\u001b[0;32m    102\u001b[0m \u001b[39m        '<?xml version='\u001b[39;00m\n\u001b[0;32m    103\u001b[0m \u001b[39m    \"\"\"\u001b[39;00m\n\u001b[1;32m--> 104\u001b[0m     \u001b[39mreturn\u001b[39;00m \u001b[39mself\u001b[39;49m\u001b[39m.\u001b[39;49m_pipe_legacy(\u001b[39mformat\u001b[39;49m,\n\u001b[0;32m    105\u001b[0m                              renderer\u001b[39m=\u001b[39;49mrenderer,\n\u001b[0;32m    106\u001b[0m                              formatter\u001b[39m=\u001b[39;49mformatter,\n\u001b[0;32m    107\u001b[0m                              neato_no_op\u001b[39m=\u001b[39;49mneato_no_op,\n\u001b[0;32m    108\u001b[0m                              quiet\u001b[39m=\u001b[39;49mquiet,\n\u001b[0;32m    109\u001b[0m                              engine\u001b[39m=\u001b[39;49mengine,\n\u001b[0;32m    110\u001b[0m                              encoding\u001b[39m=\u001b[39;49mencoding)\n",
            "File \u001b[1;32mc:\\Users\\Nadia\\AppData\\Local\\Programs\\Python\\Python312\\Lib\\site-packages\\graphviz\\_tools.py:171\u001b[0m, in \u001b[0;36mdeprecate_positional_args.<locals>.decorator.<locals>.wrapper\u001b[1;34m(*args, **kwargs)\u001b[0m\n\u001b[0;32m    162\u001b[0m     wanted \u001b[39m=\u001b[39m \u001b[39m'\u001b[39m\u001b[39m, \u001b[39m\u001b[39m'\u001b[39m\u001b[39m.\u001b[39mjoin(\u001b[39mf\u001b[39m\u001b[39m'\u001b[39m\u001b[39m{\u001b[39;00mname\u001b[39m}\u001b[39;00m\u001b[39m=\u001b[39m\u001b[39m{\u001b[39;00mvalue\u001b[39m!r}\u001b[39;00m\u001b[39m'\u001b[39m\n\u001b[0;32m    163\u001b[0m                        \u001b[39mfor\u001b[39;00m name, value \u001b[39min\u001b[39;00m deprecated\u001b[39m.\u001b[39mitems())\n\u001b[0;32m    164\u001b[0m     warnings\u001b[39m.\u001b[39mwarn(\u001b[39mf\u001b[39m\u001b[39m'\u001b[39m\u001b[39mThe signature of \u001b[39m\u001b[39m{\u001b[39;00mfunc\u001b[39m.\u001b[39m\u001b[39m__name__\u001b[39m\u001b[39m}\u001b[39;00m\u001b[39m will be reduced\u001b[39m\u001b[39m'\u001b[39m\n\u001b[0;32m    165\u001b[0m                   \u001b[39mf\u001b[39m\u001b[39m'\u001b[39m\u001b[39m to \u001b[39m\u001b[39m{\u001b[39;00msupported_number\u001b[39m}\u001b[39;00m\u001b[39m positional args\u001b[39m\u001b[39m'\u001b[39m\n\u001b[0;32m    166\u001b[0m                   \u001b[39mf\u001b[39m\u001b[39m'\u001b[39m\u001b[39m \u001b[39m\u001b[39m{\u001b[39;00m\u001b[39mlist\u001b[39m(supported)\u001b[39m}\u001b[39;00m\u001b[39m: pass \u001b[39m\u001b[39m{\u001b[39;00mwanted\u001b[39m}\u001b[39;00m\u001b[39m'\u001b[39m\n\u001b[0;32m    167\u001b[0m                   \u001b[39m'\u001b[39m\u001b[39m as keyword arg(s)\u001b[39m\u001b[39m'\u001b[39m,\n\u001b[0;32m    168\u001b[0m                   stacklevel\u001b[39m=\u001b[39mstacklevel,\n\u001b[0;32m    169\u001b[0m                   category\u001b[39m=\u001b[39mcategory)\n\u001b[1;32m--> 171\u001b[0m \u001b[39mreturn\u001b[39;00m func(\u001b[39m*\u001b[39;49margs, \u001b[39m*\u001b[39;49m\u001b[39m*\u001b[39;49mkwargs)\n",
            "File \u001b[1;32mc:\\Users\\Nadia\\AppData\\Local\\Programs\\Python\\Python312\\Lib\\site-packages\\graphviz\\piping.py:121\u001b[0m, in \u001b[0;36mPipe._pipe_legacy\u001b[1;34m(self, format, renderer, formatter, neato_no_op, quiet, engine, encoding)\u001b[0m\n\u001b[0;32m    112\u001b[0m \u001b[39m@_tools\u001b[39m\u001b[39m.\u001b[39mdeprecate_positional_args(supported_number\u001b[39m=\u001b[39m\u001b[39m2\u001b[39m)\n\u001b[0;32m    113\u001b[0m \u001b[39mdef\u001b[39;00m \u001b[39m_pipe_legacy\u001b[39m(\u001b[39mself\u001b[39m,\n\u001b[0;32m    114\u001b[0m                  \u001b[39mformat\u001b[39m: typing\u001b[39m.\u001b[39mOptional[\u001b[39mstr\u001b[39m] \u001b[39m=\u001b[39m \u001b[39mNone\u001b[39;00m,\n\u001b[1;32m   (...)\u001b[0m\n\u001b[0;32m    119\u001b[0m                  engine: typing\u001b[39m.\u001b[39mOptional[\u001b[39mstr\u001b[39m] \u001b[39m=\u001b[39m \u001b[39mNone\u001b[39;00m,\n\u001b[0;32m    120\u001b[0m                  encoding: typing\u001b[39m.\u001b[39mOptional[\u001b[39mstr\u001b[39m] \u001b[39m=\u001b[39m \u001b[39mNone\u001b[39;00m) \u001b[39m-\u001b[39m\u001b[39m>\u001b[39m typing\u001b[39m.\u001b[39mUnion[\u001b[39mbytes\u001b[39m, \u001b[39mstr\u001b[39m]:\n\u001b[1;32m--> 121\u001b[0m     \u001b[39mreturn\u001b[39;00m \u001b[39mself\u001b[39;49m\u001b[39m.\u001b[39;49m_pipe_future(\u001b[39mformat\u001b[39;49m,\n\u001b[0;32m    122\u001b[0m                              renderer\u001b[39m=\u001b[39;49mrenderer,\n\u001b[0;32m    123\u001b[0m                              formatter\u001b[39m=\u001b[39;49mformatter,\n\u001b[0;32m    124\u001b[0m                              neato_no_op\u001b[39m=\u001b[39;49mneato_no_op,\n\u001b[0;32m    125\u001b[0m                              quiet\u001b[39m=\u001b[39;49mquiet,\n\u001b[0;32m    126\u001b[0m                              engine\u001b[39m=\u001b[39;49mengine,\n\u001b[0;32m    127\u001b[0m                              encoding\u001b[39m=\u001b[39;49mencoding)\n",
            "File \u001b[1;32mc:\\Users\\Nadia\\AppData\\Local\\Programs\\Python\\Python312\\Lib\\site-packages\\graphviz\\piping.py:149\u001b[0m, in \u001b[0;36mPipe._pipe_future\u001b[1;34m(self, format, renderer, formatter, neato_no_op, quiet, engine, encoding)\u001b[0m\n\u001b[0;32m    146\u001b[0m \u001b[39mif\u001b[39;00m encoding \u001b[39mis\u001b[39;00m \u001b[39mnot\u001b[39;00m \u001b[39mNone\u001b[39;00m:\n\u001b[0;32m    147\u001b[0m     \u001b[39mif\u001b[39;00m codecs\u001b[39m.\u001b[39mlookup(encoding) \u001b[39mis\u001b[39;00m codecs\u001b[39m.\u001b[39mlookup(\u001b[39mself\u001b[39m\u001b[39m.\u001b[39mencoding):\n\u001b[0;32m    148\u001b[0m         \u001b[39m# common case: both stdin and stdout need the same encoding\u001b[39;00m\n\u001b[1;32m--> 149\u001b[0m         \u001b[39mreturn\u001b[39;00m \u001b[39mself\u001b[39;49m\u001b[39m.\u001b[39;49m_pipe_lines_string(\u001b[39m*\u001b[39;49margs, encoding\u001b[39m=\u001b[39;49mencoding, \u001b[39m*\u001b[39;49m\u001b[39m*\u001b[39;49mkwargs)\n\u001b[0;32m    150\u001b[0m     \u001b[39mtry\u001b[39;00m:\n\u001b[0;32m    151\u001b[0m         raw \u001b[39m=\u001b[39m \u001b[39mself\u001b[39m\u001b[39m.\u001b[39m_pipe_lines(\u001b[39m*\u001b[39margs, input_encoding\u001b[39m=\u001b[39m\u001b[39mself\u001b[39m\u001b[39m.\u001b[39mencoding, \u001b[39m*\u001b[39m\u001b[39m*\u001b[39mkwargs)\n",
            "File \u001b[1;32mc:\\Users\\Nadia\\AppData\\Local\\Programs\\Python\\Python312\\Lib\\site-packages\\graphviz\\backend\\piping.py:212\u001b[0m, in \u001b[0;36mpipe_lines_string\u001b[1;34m(engine, format, input_lines, encoding, renderer, formatter, neato_no_op, quiet)\u001b[0m\n\u001b[0;32m    206\u001b[0m cmd \u001b[39m=\u001b[39m dot_command\u001b[39m.\u001b[39mcommand(engine, \u001b[39mformat\u001b[39m,\n\u001b[0;32m    207\u001b[0m                           renderer\u001b[39m=\u001b[39mrenderer,\n\u001b[0;32m    208\u001b[0m                           formatter\u001b[39m=\u001b[39mformatter,\n\u001b[0;32m    209\u001b[0m                           neato_no_op\u001b[39m=\u001b[39mneato_no_op)\n\u001b[0;32m    210\u001b[0m kwargs \u001b[39m=\u001b[39m {\u001b[39m'\u001b[39m\u001b[39minput_lines\u001b[39m\u001b[39m'\u001b[39m: input_lines, \u001b[39m'\u001b[39m\u001b[39mencoding\u001b[39m\u001b[39m'\u001b[39m: encoding}\n\u001b[1;32m--> 212\u001b[0m proc \u001b[39m=\u001b[39m execute\u001b[39m.\u001b[39;49mrun_check(cmd, capture_output\u001b[39m=\u001b[39;49m\u001b[39mTrue\u001b[39;49;00m, quiet\u001b[39m=\u001b[39;49mquiet, \u001b[39m*\u001b[39;49m\u001b[39m*\u001b[39;49mkwargs)\n\u001b[0;32m    213\u001b[0m \u001b[39mreturn\u001b[39;00m proc\u001b[39m.\u001b[39mstdout\n",
            "File \u001b[1;32mc:\\Users\\Nadia\\AppData\\Local\\Programs\\Python\\Python312\\Lib\\site-packages\\graphviz\\backend\\execute.py:93\u001b[0m, in \u001b[0;36mrun_check\u001b[1;34m(cmd, input_lines, encoding, quiet, **kwargs)\u001b[0m\n\u001b[0;32m     91\u001b[0m     proc\u001b[39m.\u001b[39mcheck_returncode()\n\u001b[0;32m     92\u001b[0m \u001b[39mexcept\u001b[39;00m subprocess\u001b[39m.\u001b[39mCalledProcessError \u001b[39mas\u001b[39;00m e:\n\u001b[1;32m---> 93\u001b[0m     \u001b[39mraise\u001b[39;00m CalledProcessError(\u001b[39m*\u001b[39me\u001b[39m.\u001b[39margs)\n\u001b[0;32m     95\u001b[0m \u001b[39mreturn\u001b[39;00m proc\n",
            "\u001b[1;31mCalledProcessError\u001b[0m: Command '[WindowsPath('dot'), '-Kdot', '-Tsvg']' returned non-zero exit status 1. [stderr: 'Error: remove_overlap: Graphviz not built with triangulation library\\n']"
          ]
        },
        {
          "data": {
            "text/plain": [
              "<graphviz.graphs.Graph at 0x23ac932d5e0>"
            ]
          },
          "execution_count": 4,
          "metadata": {},
          "output_type": "execute_result"
        }
      ],
      "source": [
        "# Primero, carga tu grafo y define las etiquetas (si es necesario)\n",
        "G, _ = readAdjl(\"2.in\", weighted=True)\n",
        "\n",
        "# Luego, puedes definir etiquetas personalizadas para los nodos si lo deseas\n",
        "etiquetas = {\n",
        "    0: \"A\",\n",
        "    1: \"B\",\n",
        "    2: \"C\",\n",
        "    3: \"D\",\n",
        "    4: \"E\",\n",
        "    5: \"F\",\n",
        "    6: \"G\"\n",
        "}\n",
        "\n",
        "for i, edges in enumerate(G):\n",
        "    if etiquetas and i in etiquetas:\n",
        "      label = etiquetas[i]\n",
        "    else:\n",
        "      label = str(i)\n",
        "    print(f\"Nodo {label}: {edges}\")\n",
        "\n",
        "# Finalmente, llama a la función adjlShow pasando las etiquetas y etiquetas personalizadas\n",
        "adjlShow(G, _, weighted=True, node_labels=etiquetas)\n",
        "\n"
      ]
    },
    {
      "cell_type": "code",
      "execution_count": 5,
      "metadata": {
        "id": "v-8aK-NZEWJZ"
      },
      "outputs": [],
      "source": [
        "def obtenerMSTPorKrukalFuerzaBruta(graph):\n",
        "    numNodos = len(graph)\n",
        "    bordes = []\n",
        "\n",
        "    # saco todas las arista, su conexión y peso\n",
        "    for u in range(numNodos):\n",
        "        for v, peso in graph[u]:\n",
        "            bordes.append((u, v, peso))\n",
        "\n",
        "    # ordeno por peso\n",
        "    bordes.sort(key=lambda edge: edge[2])\n",
        "\n",
        "    # Acá gurdaré las aristas del mst\n",
        "    mst = []\n",
        "    padre = list(range(numNodos))\n",
        "\n",
        "    def find(nodoBuscado):\n",
        "        if padre[nodoBuscado] == nodoBuscado:\n",
        "            return nodoBuscado\n",
        "        return find(padre[nodoBuscado])\n",
        "\n",
        "    def union(u, v):\n",
        "        padreU = find(u)\n",
        "        padreV = find(v)\n",
        "\n",
        "        if padreU != padreV:\n",
        "            padre[padreU] = padreV\n",
        "            return True\n",
        "\n",
        "        return False\n",
        "\n",
        "    for u, v, peso in bordes:\n",
        "        if u < numNodos and v < numNodos:\n",
        "            if union(u, v) == True:\n",
        "                mst.append((u, v, peso))\n",
        "\n",
        "    return mst"
      ]
    },
    {
      "cell_type": "code",
      "execution_count": 8,
      "metadata": {
        "colab": {
          "base_uri": "https://localhost:8080/"
        },
        "id": "LYzXZFjQEZCQ",
        "outputId": "b274322b-1ab8-4202-8857-0165de5acc78"
      },
      "outputs": [
        {
          "name": "stdout",
          "output_type": "stream",
          "text": [
            "Minimum Spanning Tree (MST): [(5, 0, 10), (2, 3, 12), (1, 6, 14), (1, 2, 16), (3, 4, 22), (4, 5, 25)]\n",
            "Nodo F con A tienen peso: 10\n",
            "Nodo C con D tienen peso: 12\n",
            "Nodo B con G tienen peso: 14\n",
            "Nodo B con C tienen peso: 16\n",
            "Nodo D con E tienen peso: 22\n",
            "Nodo E con F tienen peso: 25\n",
            "Costo minimo: 99\n"
          ]
        }
      ],
      "source": [
        "mst = obtenerMSTPorKrukalFuerzaBruta(G)\n",
        "\n",
        "print(\"Minimum Spanning Tree (MST):\", mst)\n",
        "\n",
        "costoMinimo = 0\n",
        "\n",
        "for borde in mst:\n",
        "    u, v, peso = borde\n",
        "    print(f\"Nodo {chr(u + 65)} con {chr(v + 65)} tienen peso: {peso}\")\n",
        "    costoMinimo += peso\n",
        "\n",
        "print(f\"Costo minimo: {costoMinimo}\")"
      ]
    }
  ],
  "metadata": {
    "colab": {
      "provenance": []
    },
    "kernelspec": {
      "display_name": "Python 3",
      "name": "python3"
    },
    "language_info": {
      "codemirror_mode": {
        "name": "ipython",
        "version": 3
      },
      "file_extension": ".py",
      "mimetype": "text/x-python",
      "name": "python",
      "nbconvert_exporter": "python",
      "pygments_lexer": "ipython3",
      "version": "3.12.0"
    }
  },
  "nbformat": 4,
  "nbformat_minor": 0
}
