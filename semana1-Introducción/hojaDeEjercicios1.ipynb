{
 "cells": [
  {
   "cell_type": "markdown",
   "metadata": {},
   "source": [
    "<center><h1>Uso de Arreglos</h1></center>"
   ]
  },
  {
   "cell_type": "markdown",
   "metadata": {},
   "source": [
    "1.- Escriba un método generar(n) que genere un arreglo de tamaño n con todos sus elementos \n",
    "aleatorios entre 1 y 100."
   ]
  },
  {
   "cell_type": "code",
   "execution_count": 9,
   "metadata": {},
   "outputs": [
    {
     "name": "stdout",
     "output_type": "stream",
     "text": [
      "[18, 76, 10, 16, 50, 13]\n"
     ]
    }
   ],
   "source": [
    "import random\n",
    "arr = []\n",
    "\n",
    "def generar(n):\n",
    "    for _ in range(n):  # Bucle for se ejecuta n veces: O(n)\n",
    "        numeroAleatorio = random.randint(1, 100)  # Generar número aleatorio: O(1)\n",
    "        arr.append(numeroAleatorio)  # Agregar elemento al arreglo: O(1)\n",
    "    print(arr)\n",
    "\n",
    "generar(6)  # Llamada a la función generar: O(n)\n",
    "# Complejidad total: O(n) + O(1) + O(1) = O(n)\n"
   ]
  },
  {
   "cell_type": "markdown",
   "metadata": {},
   "source": [
    "•  Escriba un método mostrar(int[] t) que muestra todos los elementos de un arreglo t."
   ]
  },
  {
   "cell_type": "code",
   "execution_count": 39,
   "metadata": {},
   "outputs": [
    {
     "name": "stdout",
     "output_type": "stream",
     "text": [
      "-  uno\n",
      "-  dos\n",
      "-  tres\n",
      "-  cuatro\n",
      "-  cinco\n"
     ]
    }
   ],
   "source": [
    "def mostrar(arreglo): #Definición de función: O(1)\n",
    "    for elemento in arreglo:  #Bucle for: O(1)\n",
    "        print(\"- \", elemento)\n",
    "\n",
    "arr = [\"uno\", \"dos\", \"tres\", \"cuatro\", \"cinco\"] #Inicialización de arreglo: O(1)\n",
    "mostrar(arr) #Llamada a función mostrar: O(n)\n",
    "\n",
    "#Complejidad total: O(1) + O(1) + O(n) = O(n)"
   ]
  },
  {
   "cell_type": "markdown",
   "metadata": {},
   "source": [
    "• Escriba un método reversa(int[] t) que invierte el orden de todos los elementos de un arreglo t \n",
    "(sin crear arreglos auxiliares),"
   ]
  },
  {
   "cell_type": "code",
   "execution_count": 30,
   "metadata": {},
   "outputs": [
    {
     "name": "stdout",
     "output_type": "stream",
     "text": [
      "cinco\n",
      "cuatro\n",
      "tres\n",
      "dos\n",
      "uno\n"
     ]
    }
   ],
   "source": [
    "def reversa(arreglo):\n",
    "    tamanho = len(arreglo)  # Obtener la longitud del arreglo: O(1)\n",
    "    while tamanho > 0:  # El bucle while se ejecuta n veces (n es la longitud del arreglo)\n",
    "        print(arreglo[tamanho - 1])  # Acceder a un elemento del arreglo: O(1)\n",
    "        tamanho -= 1  # Operación de tiempo constante: O(1)\n",
    "\n",
    "arr = [\"uno\", \"dos\", \"tres\", \"cuatro\", \"cinco\"]\n",
    "reversa(arr)  # Llamada a la función reversa: O(n) (donde n es la longitud del arreglo)\n",
    "\n",
    "# Complejidad total: O(1) + O(n) * (O(1) + O(1)) = O(n)"
   ]
  },
  {
   "cell_type": "markdown",
   "metadata": {},
   "source": [
    "• Escriba un método int minArreglo(int[] t) que devuelve el elemento más pequeño de un arreglo."
   ]
  },
  {
   "cell_type": "code",
   "execution_count": 44,
   "metadata": {},
   "outputs": [
    {
     "name": "stdout",
     "output_type": "stream",
     "text": [
      "El elemento más pequeño es:  -5\n"
     ]
    }
   ],
   "source": [
    "def minArreglo(arreglo):\n",
    "    pequeno = arreglo[0]  # Acceso a un elemento del arreglo: O(1)\n",
    "    for elemento in arreglo:  # Bucle for se ejecuta n veces (n es la longitud del arreglo)\n",
    "        if pequeno > elemento:  # Comparación de tiempo constante: O(1)\n",
    "            pequeno = elemento  # Asignación de tiempo constante: O(1)\n",
    "    return pequeno\n",
    "\n",
    "arrNum = [3, -5, 2, 1, 8]\n",
    "print(\"El elemento más pequeño es: \", minArreglo(arrNum))  # Llamada a la función minArreglo: O(n)\n",
    "\n",
    "# Complejidad total: O(1) + O(n) * (O(1) + O(1) + O(1)) + O(n) = O(n)\n"
   ]
  },
  {
   "cell_type": "markdown",
   "metadata": {},
   "source": [
    "• Escriba un método int mediaArreglo(int[] t) que devuelve la media aritmética de los elementos \n",
    "de un arreglo"
   ]
  },
  {
   "cell_type": "code",
   "execution_count": 45,
   "metadata": {},
   "outputs": [
    {
     "name": "stdout",
     "output_type": "stream",
     "text": [
      "La media es:  3.8\n"
     ]
    }
   ],
   "source": [
    "def mediaArreglo(arreglo):\n",
    "    tamanho = len(arreglo)  # Obtener la longitud del arreglo: O(1)\n",
    "    suma = 0  # Inicialización de una variable: O(1)\n",
    "    for elemento in arreglo:  # Bucle for se ejecuta n veces (n es la longitud del arreglo)\n",
    "        suma += elemento  # Suma de tiempo constante: O(1)\n",
    "    return (suma/tamanho)  # Operación de tiempo constante: O(1)\n",
    "\n",
    "arrNum = [3, 5, 2, 1, 8]\n",
    "print(\"La media es: \", mediaArreglo(arrNum))  # Llamada a la función mediaArreglo: O(n)\n",
    "\n",
    "# Complejidad total: O(1) + O(1) + O(n) * (O(1) + O(1)) + O(1) = O(n)"
   ]
  },
  {
   "cell_type": "markdown",
   "metadata": {},
   "source": [
    "Escriba un método int[] ocurrencias(int[] t) que devuelve un nuevo arreglo s tal que s[i] es el \n",
    "número de veces que el entero i aparece en t."
   ]
  },
  {
   "cell_type": "code",
   "execution_count": 10,
   "metadata": {},
   "outputs": [
    {
     "name": "stdout",
     "output_type": "stream",
     "text": [
      "[0, 1, 2, 3, 4]\n"
     ]
    }
   ],
   "source": [
    "def ocurrencias(t):\n",
    "    max_value = max(t) if t else 0  # Obtener el máximo valor del arreglo: O(n)\n",
    "    s = [0] * (max_value + 1)  # Crear un arreglo de tamaño máximo + 1: O(n)\n",
    "    \n",
    "    for num in t:  # Bucle for se ejecuta n veces: O(n)\n",
    "        s[num] += 1  # Operación de acceso y suma en un arreglo: O(1)\n",
    "    \n",
    "    return s\n",
    "\n",
    "t = [1, 2, 2, 3, 3, 3, 4, 4, 4, 4]\n",
    "resultado = ocurrencias(t)  # Llamada a la función: O(n)\n",
    "\n",
    "print(resultado)\n",
    "# Complejidad total: O(n) + O(n) + O(n) * O(1) = O(n)\n",
    "\n"
   ]
  }
 ],
 "metadata": {
  "kernelspec": {
   "display_name": "Python 3",
   "language": "python",
   "name": "python3"
  },
  "language_info": {
   "codemirror_mode": {
    "name": "ipython",
    "version": 3
   },
   "file_extension": ".py",
   "mimetype": "text/x-python",
   "name": "python",
   "nbconvert_exporter": "python",
   "pygments_lexer": "ipython3",
   "version": "3.11.5"
  },
  "orig_nbformat": 4
 },
 "nbformat": 4,
 "nbformat_minor": 2
}
