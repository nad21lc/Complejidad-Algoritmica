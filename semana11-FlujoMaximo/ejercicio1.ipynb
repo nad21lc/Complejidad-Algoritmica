{
 "cells": [
  {
   "cell_type": "code",
   "execution_count": 1,
   "metadata": {},
   "outputs": [],
   "source": [
    "import graphviz as gv\n",
    "\n",
    "# Representación del grafo\n",
    "grafo = {\n",
    "    0: [(1, 4), (7, 8)],\n",
    "    1: [(2, 8), (7, 11)],\n",
    "    2: [(3, 7), (8, 2), (5, 4)],\n",
    "    3: [(4, 9), (5, 14)],\n",
    "    4: [(5, 10)],\n",
    "    5: [(6, 2)],\n",
    "    6: [(7, 1), (8, 6)],\n",
    "    7: [(8, 7)],\n",
    "    8: [(1, 3)]\n",
    "}\n",
    "\n",
    "# Definir función para mostrar el grafo\n",
    "def mostrarGrafo(grafo, mst_edges=None):\n",
    "    g = gv.Graph(\"G\")\n",
    "\n",
    "    # Agregar nodos\n",
    "    for nodo in grafo:\n",
    "        g.node(str(nodo))\n",
    "\n",
    "    # Agregar bordes y resaltar los del MST en otro color si se proporciona\n",
    "    for nodo, conexiones in grafo.items():\n",
    "        for conexion in conexiones:\n",
    "            vecino, peso = conexion\n",
    "            if mst_edges and (nodo, vecino) in mst_edges:\n",
    "                g.edge(str(nodo), str(vecino), label=str(peso), color=\"green\", penwidth=\"2\")\n",
    "            else:\n",
    "                g.edge(str(nodo), str(vecino), label=str(peso))\n",
    "\n",
    "    g.view()\n",
    "\n",
    "# Llama a la función para mostrar el grafo\n",
    "mostrarGrafo(grafo)"
   ]
  }
 ],
 "metadata": {
  "kernelspec": {
   "display_name": "Python 3",
   "language": "python",
   "name": "python3"
  },
  "language_info": {
   "codemirror_mode": {
    "name": "ipython",
    "version": 3
   },
   "file_extension": ".py",
   "mimetype": "text/x-python",
   "name": "python",
   "nbconvert_exporter": "python",
   "pygments_lexer": "ipython3",
   "version": "3.12.0"
  }
 },
 "nbformat": 4,
 "nbformat_minor": 2
}
