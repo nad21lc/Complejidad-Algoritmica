{
 "cells": [
  {
   "cell_type": "markdown",
   "metadata": {},
   "source": [
    "<h1 style=\"color:Red;\"><center>Complejidad Algorítmica</center></h1>\n",
    "<center>Prof. Robert Zubieta</center>"
   ]
  },
  {
   "cell_type": "markdown",
   "metadata": {},
   "source": [
    "##### INTRODUCCION A PYTHON"
   ]
  },
  {
   "cell_type": "markdown",
   "metadata": {},
   "source": [
    "Declarar Variables"
   ]
  },
  {
   "cell_type": "code",
   "execution_count": 1,
   "metadata": {},
   "outputs": [],
   "source": [
    "i = 5\n",
    "f = 3.7\n",
    "s = \"Robert\""
   ]
  },
  {
   "cell_type": "markdown",
   "metadata": {},
   "source": [
    "Imprimir Variables"
   ]
  },
  {
   "cell_type": "code",
   "execution_count": 2,
   "metadata": {},
   "outputs": [
    {
     "name": "stdout",
     "output_type": "stream",
     "text": [
      "Integer =  5\n",
      "Flotante =  3.7\n",
      "String =  Robert\n"
     ]
    }
   ],
   "source": [
    "print(\"Integer = \", i)\n",
    "print(\"Flotante = \", f)\n",
    "print(\"String = \", s)"
   ]
  },
  {
   "cell_type": "markdown",
   "metadata": {},
   "source": [
    "Crear una secuencia de numeros del 0 al 5 e imprimirlos"
   ]
  },
  {
   "cell_type": "code",
   "execution_count": 6,
   "metadata": {},
   "outputs": [
    {
     "name": "stdout",
     "output_type": "stream",
     "text": [
      "0\n",
      "1\n",
      "2\n",
      "3\n",
      "4\n",
      "5\n"
     ]
    }
   ],
   "source": [
    "x = range(6) #Numeros consecutivos: incrementan en 1\n",
    "for n in x:\n",
    "  print(n)"
   ]
  },
  {
   "cell_type": "markdown",
   "metadata": {},
   "source": [
    "Crear una secuencia de numeros del 0 al 19, incrementados en 2 e imprimirlos"
   ]
  },
  {
   "cell_type": "code",
   "execution_count": 9,
   "metadata": {},
   "outputs": [
    {
     "name": "stdout",
     "output_type": "stream",
     "text": [
      "3\n",
      "5\n",
      "7\n",
      "9\n",
      "11\n",
      "13\n",
      "15\n",
      "17\n",
      "19\n"
     ]
    }
   ],
   "source": [
    "x = range(3, 20, 2) #Numeros incrementan en 2\n",
    "for n in x:\n",
    "  print(n)"
   ]
  },
  {
   "cell_type": "markdown",
   "metadata": {},
   "source": [
    "Crear un ciclo Repetitivo con FOR"
   ]
  },
  {
   "cell_type": "code",
   "execution_count": 11,
   "metadata": {},
   "outputs": [
    {
     "name": "stdout",
     "output_type": "stream",
     "text": [
      "Linea  1\n",
      "Linea  2\n",
      "Linea  3\n",
      "Linea  4\n",
      "Linea  5\n",
      "Linea  6\n"
     ]
    }
   ],
   "source": [
    "for i in range(1,7):\n",
    "    print(\"Linea \", i)"
   ]
  },
  {
   "cell_type": "markdown",
   "metadata": {},
   "source": [
    "Crear un ciclo Repetitivo con WHILE"
   ]
  },
  {
   "cell_type": "code",
   "execution_count": 5,
   "metadata": {},
   "outputs": [
    {
     "name": "stdout",
     "output_type": "stream",
     "text": [
      "Linea  0\n",
      "Linea  1\n",
      "Linea  2\n",
      "Linea  3\n",
      "Linea  4\n",
      "Linea  5\n",
      "Linea  6\n"
     ]
    }
   ],
   "source": [
    "i=0\n",
    "while i<7:\n",
    "    print(\"Linea \", i)\n",
    "    i = i + 1"
   ]
  },
  {
   "cell_type": "markdown",
   "metadata": {},
   "source": [
    "Crear una LISTA"
   ]
  },
  {
   "cell_type": "code",
   "execution_count": 12,
   "metadata": {},
   "outputs": [
    {
     "name": "stdout",
     "output_type": "stream",
     "text": [
      "[0, 1, 2, 3, 4, 5, 6, 7, 8, 9]\n"
     ]
    }
   ],
   "source": [
    "lista = []\n",
    "for i in range(10):\n",
    "\tlista.append(i)\n",
    "print(lista)"
   ]
  },
  {
   "cell_type": "markdown",
   "metadata": {},
   "source": [
    "Crear una FUNCION"
   ]
  },
  {
   "cell_type": "code",
   "execution_count": 6,
   "metadata": {},
   "outputs": [
    {
     "name": "stdout",
     "output_type": "stream",
     "text": [
      "Resultado de Funcion:  10\n"
     ]
    }
   ],
   "source": [
    "# Funcion para hallar el Doble de un numero\n",
    "def funcion(n):\n",
    "    return 2*n\n",
    "\n",
    "print(\"Resultado de Funcion: \", funcion(5))"
   ]
  },
  {
   "cell_type": "markdown",
   "metadata": {},
   "source": [
    "Analisis de Tiempo de dos Funciones"
   ]
  },
  {
   "cell_type": "code",
   "execution_count": 1,
   "metadata": {},
   "outputs": [
    {
     "name": "stdout",
     "output_type": "stream",
     "text": [
      "factorial:  0.0019986629486083984\n",
      "\n",
      "factorial_r:  0.008997201919555664\n"
     ]
    }
   ],
   "source": [
    "import time\n",
    "\n",
    "# Funcion Iterativa\n",
    "def factorial(n):\n",
    "    respuesta = 1\n",
    "    while n>1:\n",
    "        respuesta = respuesta * n\n",
    "        n = n-1\n",
    "    return respuesta\n",
    "\n",
    "# Funcion Recursiva\n",
    "def factorial_r(n):\n",
    "    if n==1:\n",
    "        return 1\n",
    "    return n*factorial_r(n-1)\n",
    "\n",
    "\n",
    "if __name__ == '__main__':\n",
    "\n",
    "    n = 2000\n",
    "    #n = 2000 #Limite, >=20000 => Kernel Dead\n",
    "    #n = 200000       => Kernel Dead\n",
    "    \n",
    "    comienzo = time.time()\n",
    "    factorial(n)\n",
    "    final = time.time()\n",
    "    print(\"factorial: \", final - comienzo)\n",
    "    \n",
    "    print()\n",
    "    \n",
    "    comienzo = time.time()\n",
    "    factorial_r(n)\n",
    "    final = time.time()\n",
    "    print(\"factorial_r: \", final - comienzo)\n",
    "\t\n"
   ]
  }
 ],
 "metadata": {
  "kernelspec": {
   "display_name": "Python 3",
   "language": "python",
   "name": "python3"
  },
  "language_info": {
   "codemirror_mode": {
    "name": "ipython",
    "version": 3
   },
   "file_extension": ".py",
   "mimetype": "text/x-python",
   "name": "python",
   "nbconvert_exporter": "python",
   "pygments_lexer": "ipython3",
   "version": "3.10.5"
  },
  "orig_nbformat": 4
 },
 "nbformat": 4,
 "nbformat_minor": 2
}
